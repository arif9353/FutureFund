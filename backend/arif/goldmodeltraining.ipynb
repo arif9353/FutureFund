{
 "cells": [
  {
   "cell_type": "code",
   "execution_count": 7,
   "metadata": {},
   "outputs": [],
   "source": [
    "#currently not being used.\n",
    "import yfinance as yf\n",
    "import pandas as pd\n",
    "import requests\n",
    "from sklearn.model_selection import train_test_split\n",
    "from sklearn.preprocessing import StandardScaler\n",
    "from sklearn.ensemble import RandomForestRegressor\n",
    "from sklearn.metrics import mean_squared_error"
   ]
  },
  {
   "cell_type": "code",
   "execution_count": 8,
   "metadata": {},
   "outputs": [
    {
     "name": "stderr",
     "output_type": "stream",
     "text": [
      "[*********************100%%**********************]  1 of 1 completed"
     ]
    },
    {
     "name": "stdout",
     "output_type": "stream",
     "text": [
      "                 Open       High        Low      Close  Adj Close    Volume\n",
      "Date                                                                       \n",
      "2005-06-01  41.410000  44.130001  41.400002  43.439999  43.439999  36145800\n",
      "2005-07-01  43.400002  43.400002  41.700001  42.820000  42.820000  33962100\n",
      "2005-08-01  43.080002  44.720001  42.810001  43.400002  43.400002  32270600\n",
      "2005-09-01  43.930000  47.230000  43.849998  46.700001  46.700001  44606600\n",
      "2005-10-01  46.619999  47.720001  45.830002  46.400002  46.400002  45491800\n"
     ]
    },
    {
     "name": "stderr",
     "output_type": "stream",
     "text": [
      "\n"
     ]
    }
   ],
   "source": [
    "gold_data = yf.download('GLD', start='2005-05-08', end='2024-05-20',interval='1mo')\n",
    "print(gold_data.head())"
   ]
  },
  {
   "cell_type": "code",
   "execution_count": 9,
   "metadata": {},
   "outputs": [
    {
     "name": "stdout",
     "output_type": "stream",
     "text": [
      "<class 'pandas.core.frame.DataFrame'>\n",
      "DatetimeIndex: 228 entries, 2005-06-01 to 2024-05-01\n",
      "Data columns (total 6 columns):\n",
      " #   Column     Non-Null Count  Dtype  \n",
      "---  ------     --------------  -----  \n",
      " 0   Open       228 non-null    float64\n",
      " 1   High       228 non-null    float64\n",
      " 2   Low        228 non-null    float64\n",
      " 3   Close      228 non-null    float64\n",
      " 4   Adj Close  228 non-null    float64\n",
      " 5   Volume     228 non-null    int64  \n",
      "dtypes: float64(5), int64(1)\n",
      "memory usage: 12.5 KB\n"
     ]
    }
   ],
   "source": [
    "gold_data.info()"
   ]
  },
  {
   "cell_type": "code",
   "execution_count": 10,
   "metadata": {},
   "outputs": [],
   "source": [
    "# Handle missing values\n",
    "gold_data = gold_data.dropna()\n",
    "\n",
    "# Create relevant features\n",
    "gold_data['MA_2'] = gold_data['Close'].rolling(window=2).mean()\n",
    "gold_data['MA_5'] = gold_data['Close'].rolling(window=5).mean()\n",
    "gold_data['Volatility'] = gold_data['Close'].rolling(window=2).std()\n",
    "gold_data['Return'] = gold_data['Close'].pct_change()"
   ]
  },
  {
   "cell_type": "code",
   "execution_count": 11,
   "metadata": {},
   "outputs": [
    {
     "name": "stdout",
     "output_type": "stream",
     "text": [
      "                 Open       High        Low      Close  Adj Close     Volume  \\\n",
      "Date                                                                           \n",
      "2005-10-01  46.619999  47.720001  45.830002  46.400002  46.400002   45491800   \n",
      "2005-11-01  46.070000  49.990002  45.320000  49.099998  49.099998   37083000   \n",
      "2005-12-01  49.630001  53.759998  48.799999  51.580002  51.580002   79411300   \n",
      "2006-01-01  52.290001  57.049999  52.099998  56.700001  56.700001  103662000   \n",
      "2006-02-01  56.790001  57.299999  53.330002  56.070000  56.070000   86851300   \n",
      "\n",
      "                 MA_2       MA_5  Volatility    Return  \n",
      "Date                                                    \n",
      "2005-10-01  46.550001  44.552000    0.212131 -0.006424  \n",
      "2005-11-01  47.750000  45.684000    1.909186  0.058190  \n",
      "2005-12-01  50.340000  47.436001    1.753627  0.050509  \n",
      "2006-01-01  54.140001  50.096001    3.620386  0.099263  \n",
      "2006-02-01  56.385000  51.970000    0.445478 -0.011111  \n"
     ]
    }
   ],
   "source": [
    "gold_data = gold_data.dropna()\n",
    "print(gold_data.head())\n",
    "\n",
    "# Define features and target\n",
    "features = ['MA_2', 'MA_5', 'Volatility', 'Return']\n",
    "X = gold_data[features]\n",
    "y = gold_data['Close']"
   ]
  },
  {
   "cell_type": "code",
   "execution_count": 12,
   "metadata": {},
   "outputs": [],
   "source": [
    "# Split data into training and testing sets\n",
    "X_train, X_test, y_train, y_test = train_test_split(X, y, test_size=0.2, random_state=42)\n",
    "\n",
    "# Standardize the features\n",
    "scaler = StandardScaler()\n",
    "X_train_scaled = scaler.fit_transform(X_train)\n",
    "X_test_scaled = scaler.transform(X_test)"
   ]
  },
  {
   "cell_type": "code",
   "execution_count": 13,
   "metadata": {},
   "outputs": [
    {
     "name": "stdout",
     "output_type": "stream",
     "text": [
      "Mean Squared Error: 8.158072302250815\n"
     ]
    }
   ],
   "source": [
    "# Train a regression model\n",
    "model = RandomForestRegressor(n_estimators=100, random_state=42)\n",
    "model.fit(X_train_scaled, y_train)\n",
    "\n",
    "# Evaluate the model\n",
    "y_pred = model.predict(X_test_scaled)\n",
    "mse = mean_squared_error(y_test, y_pred)\n",
    "print(f\"Mean Squared Error: {mse}\")"
   ]
  },
  {
   "cell_type": "code",
   "execution_count": null,
   "metadata": {},
   "outputs": [],
   "source": [
    "import pickle \n",
    "with open('gold_model.pkl','wb') as file:\n",
    "    pickle.dump(model,file)"
   ]
  },
  {
   "cell_type": "code",
   "execution_count": null,
   "metadata": {},
   "outputs": [],
   "source": [
    "with open('gold_scaler.pkl', 'wb') as file:\n",
    "    pickle.dump(scaler, file)"
   ]
  },
  {
   "cell_type": "code",
   "execution_count": null,
   "metadata": {},
   "outputs": [],
   "source": []
  }
 ],
 "metadata": {
  "kernelspec": {
   "display_name": "Python 3",
   "language": "python",
   "name": "python3"
  },
  "language_info": {
   "codemirror_mode": {
    "name": "ipython",
    "version": 3
   },
   "file_extension": ".py",
   "mimetype": "text/x-python",
   "name": "python",
   "nbconvert_exporter": "python",
   "pygments_lexer": "ipython3",
   "version": "3.11.7"
  }
 },
 "nbformat": 4,
 "nbformat_minor": 2
}

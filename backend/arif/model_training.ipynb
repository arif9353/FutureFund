{
 "cells": [
  {
   "cell_type": "markdown",
   "metadata": {},
   "source": [
    "# Gradient Boosting Regressor\n"
   ]
  },
  {
   "cell_type": "code",
   "execution_count": 1,
   "metadata": {},
   "outputs": [],
   "source": [
    "import pandas as pd\n",
    "import numpy as np\n",
    "from sklearn.model_selection import train_test_split\n",
    "from sklearn.preprocessing import StandardScaler, OneHotEncoder\n",
    "from sklearn.compose import ColumnTransformer\n",
    "from sklearn.pipeline import Pipeline\n",
    "from sklearn.ensemble import GradientBoostingRegressor\n",
    "from sklearn.metrics import mean_absolute_error"
   ]
  },
  {
   "cell_type": "code",
   "execution_count": 2,
   "metadata": {},
   "outputs": [],
   "source": [
    "data1 = pd.read_csv(\"../mihiresh/commerce_logic.csv\")"
   ]
  },
  {
   "cell_type": "code",
   "execution_count": 3,
   "metadata": {},
   "outputs": [],
   "source": [
    "features = ['years_to_retire', 'salary', 'investment_amount', 'current_savings', 'debt',\n",
    "            'other_expenses', 'number_of_dependents', 'current_invested_amount', 'house_ownership']\n",
    "\n",
    "# Targets for percentage allocations\n",
    "targets_low = ['s1_low', 's2_low', 's3_low', 's4_low', 's5_low', 's6_low']\n",
    "targets_mid = ['s1_mid', 's2_mid', 's3_mid', 's4_mid', 's5_mid', 's6_mid']\n",
    "targets_high = ['s1_high', 's2_high', 's3_high', 's4_high', 's5_high', 's6_high']"
   ]
  },
  {
   "cell_type": "code",
   "execution_count": 4,
   "metadata": {},
   "outputs": [],
   "source": [
    "# Preprocessing\n",
    "X = data1[features]\n",
    "y_low = data1[targets_low]\n",
    "y_mid = data1[targets_mid]\n",
    "y_high = data1[targets_high]"
   ]
  },
  {
   "cell_type": "code",
   "execution_count": 5,
   "metadata": {},
   "outputs": [],
   "source": [
    "# Normalize target values to sum to 1\n",
    "y_low = y_low.div(y_low.sum(axis=1), axis=0)\n",
    "y_mid = y_mid.div(y_mid.sum(axis=1), axis=0)\n",
    "y_high = y_high.div(y_high.sum(axis=1), axis=0)"
   ]
  },
  {
   "cell_type": "code",
   "execution_count": 6,
   "metadata": {},
   "outputs": [],
   "source": [
    "# Handle categorical variables\n",
    "categorical_features = ['house_ownership']\n",
    "\n",
    "\n",
    "preprocessor = ColumnTransformer(\n",
    "    transformers=[\n",
    "        ('num', StandardScaler(), numerical_features),\n",
    "        ('cat', OneHotEncoder(), categorical_features)\n",
    "    ])\n",
    "\n",
    "# Transform the data\n",
    "X_processed = preprocessor.fit_transform(X)"
   ]
  },
  {
   "cell_type": "code",
   "execution_count": 7,
   "metadata": {},
   "outputs": [],
   "source": [
    "# Split the data\n",
    "X_train, X_test, y_train_low, y_test_low = train_test_split(X_processed, y_low, test_size=0.2, random_state=42)\n",
    "_, _, y_train_mid, y_test_mid = train_test_split(X_processed, y_mid, test_size=0.2, random_state=42)\n",
    "_, _, y_train_high, y_test_high = train_test_split(X_processed, y_high, test_size=0.2, random_state=42)"
   ]
  },
  {
   "cell_type": "code",
   "execution_count": 8,
   "metadata": {},
   "outputs": [],
   "source": [
    "# Train and evaluate models for each risk level\n",
    "def train_and_evaluate(X_train, X_test, y_train, y_test, risk_level):\n",
    "    models = {}\n",
    "    for target in y_train.columns:\n",
    "        model = GradientBoostingRegressor(random_state=42)\n",
    "        model.fit(X_train, y_train[target])\n",
    "        y_pred = model.predict(X_test)\n",
    "        mae = mean_absolute_error(y_test[target], y_pred)\n",
    "        models[target] = model\n",
    "        print(f'{risk_level} - MAE for {target}: {mae}')\n",
    "    return models"
   ]
  },
  {
   "cell_type": "code",
   "execution_count": 9,
   "metadata": {},
   "outputs": [
    {
     "name": "stdout",
     "output_type": "stream",
     "text": [
      "Low - MAE for s1_low: 0.04145885862420769\n",
      "Low - MAE for s2_low: 0.0120480435030057\n",
      "Low - MAE for s3_low: 0.024526949663663027\n",
      "Low - MAE for s4_low: 0.011897970166384126\n",
      "Low - MAE for s5_low: 0.02435982686067356\n",
      "Low - MAE for s6_low: 0.02460444922108109\n",
      "Mid - MAE for s1_mid: 0.040972159837673605\n",
      "Mid - MAE for s2_mid: 0.011813653698194319\n",
      "Mid - MAE for s3_mid: 0.024224464764362047\n",
      "Mid - MAE for s4_mid: 0.023618627189040408\n",
      "Mid - MAE for s5_mid: 0.023873971176058256\n",
      "Mid - MAE for s6_mid: 0.023809097579230477\n",
      "High - MAE for s1_high: 0.051150638635850496\n",
      "High - MAE for s2_high: 0.024930724066321325\n",
      "High - MAE for s3_high: 0.01211885965743685\n",
      "High - MAE for s4_high: 0.012151120027945774\n",
      "High - MAE for s5_high: 0.03751380572969898\n",
      "High - MAE for s6_high: 0.025008064183815633\n"
     ]
    }
   ],
   "source": [
    "low_models = train_and_evaluate(X_train, X_test, y_train_low, y_test_low, 'Low')\n",
    "mid_models = train_and_evaluate(X_train, X_test, y_train_mid, y_test_mid, 'Mid')\n",
    "high_models = train_and_evaluate(X_train, X_test, y_train_high, y_test_high, 'High')"
   ]
  },
  {
   "cell_type": "code",
   "execution_count": 10,
   "metadata": {},
   "outputs": [],
   "source": [
    "# Predict using the models\n",
    "def predict(models, X):\n",
    "    predictions = {}\n",
    "    for target, model in models.items():\n",
    "        predictions[target] = model.predict(X)\n",
    "    return predictions\n",
    "\n",
    "low_predictions = predict(low_models, X_test)\n",
    "mid_predictions = predict(mid_models, X_test)\n",
    "high_predictions = predict(high_models, X_test)"
   ]
  },
  {
   "cell_type": "code",
   "execution_count": 11,
   "metadata": {},
   "outputs": [],
   "source": [
    "def display_results(employee_data, low_pred, mid_pred, high_pred):\n",
    "    print(\"Low Risk:\")\n",
    "    for i, investment in enumerate(low_pred.keys()):\n",
    "        print(f\"{investment}: {low_pred[investment][0]*100:.2f}%\")\n",
    "    print(\"Medium Risk:\")\n",
    "    for i, investment in enumerate(mid_pred.keys()):\n",
    "        print(f\"{investment}: {mid_pred[investment][0]*100:.2f}%\")\n",
    "    print(\"High Risk:\")\n",
    "    for i, investment in enumerate(high_pred.keys()):\n",
    "        print(f\"{investment}: {high_pred[investment][0]*100:.2f}%\")"
   ]
  },
  {
   "cell_type": "code",
   "execution_count": 12,
   "metadata": {},
   "outputs": [
    {
     "name": "stdout",
     "output_type": "stream",
     "text": [
      "Low Risk:\n",
      "s1_low: 7.78%\n",
      "s2_low: 2.08%\n",
      "s3_low: 24.37%\n",
      "s4_low: 16.84%\n",
      "s5_low: 39.51%\n",
      "s6_low: 9.41%\n",
      "Medium Risk:\n",
      "s1_mid: 5.73%\n",
      "s2_mid: 6.98%\n",
      "s3_mid: 14.38%\n",
      "s4_mid: 24.24%\n",
      "s5_mid: 19.24%\n",
      "s6_mid: 29.18%\n",
      "High Risk:\n",
      "s1_high: 31.16%\n",
      "s2_high: 29.58%\n",
      "s3_high: 7.01%\n",
      "s4_high: 6.99%\n",
      "s5_high: 6.29%\n",
      "s6_high: 19.03%\n"
     ]
    }
   ],
   "source": [
    "# Example new employee data\n",
    "new_employee = pd.DataFrame([[30, 45000, 12000, 35000, 2000, 3000, 1, 1, 'Own House']], columns=features)\n",
    "new_employee_processed = preprocessor.transform(new_employee)\n",
    "\n",
    "predicted_low = predict(low_models, new_employee_processed)\n",
    "predicted_mid = predict(mid_models, new_employee_processed)\n",
    "predicted_high = predict(high_models, new_employee_processed)\n",
    "\n",
    "display_results(new_employee, predicted_low, predicted_mid, predicted_high)"
   ]
  },
  {
   "cell_type": "code",
   "execution_count": 17,
   "metadata": {},
   "outputs": [
    {
     "data": {
      "image/png": "[encoded data removed]",
      "text/plain": [
       "<Figure size 640x480 with 1 Axes>"
      ]
     },
     "metadata": {},
     "output_type": "display_data"
    }
   ],
   "source": [
    "import matplotlib.pyplot as plt\n",
    "def plot_learning_curve(model, X_train, y_train, X_test, y_test, target, steps=50):\n",
    "    train_errors, test_errors = [], []\n",
    "    m_values = np.linspace(1, len(X_train), steps, dtype=int)\n",
    "    for m in m_values:\n",
    "        model.fit(X_train[:m], y_train[:m])\n",
    "        y_train_predict = model.predict(X_train[:m])\n",
    "        y_test_predict = model.predict(X_test)\n",
    "        train_errors.append(mean_absolute_error(y_train[:m], y_train_predict))\n",
    "        test_errors.append(mean_absolute_error(y_test, y_test_predict))\n",
    "    \n",
    "    plt.plot(m_values, train_errors, \"r-+\", linewidth=2, label=\"train\")\n",
    "    plt.plot(m_values, test_errors, \"b-\", linewidth=3, label=\"test\")\n",
    "    plt.legend()\n",
    "    plt.title(f\"Learning Curve for {target}\")\n",
    "    plt.xlabel(\"Training Set Size\")\n",
    "    plt.ylabel(\"Mean Absolute Error\")\n",
    "    plt.show()\n",
    "\n",
    "# Plot learning curves for one of the targets as an example\n",
    "plot_learning_curve(low_models['s1_low'], X_train, y_train_low['s1_low'], X_test, y_test_low['s1_low'], 's1_low', steps=50)"
   ]
  },
  {
   "cell_type": "code",
   "execution_count": 19,
   "metadata": {},
   "outputs": [
    {
     "name": "stdout",
     "output_type": "stream",
     "text": [
      "Collecting xgboost\n",
      "  Downloading xgboost-2.0.3-py3-none-win_amd64.whl.metadata (2.0 kB)\n",
      "Requirement already satisfied: numpy in c:\\users\\anand\\appdata\\local\\programs\\python\\python311\\lib\\site-packages (from xgboost) (1.26.3)\n",
      "Requirement already satisfied: scipy in c:\\users\\anand\\appdata\\local\\programs\\python\\python311\\lib\\site-packages (from xgboost) (1.12.0)\n",
      "Downloading xgboost-2.0.3-py3-none-win_amd64.whl (99.8 MB)\n",
      "   ---------------------------------------- 0.0/99.8 MB ? eta -:--:--\n",
      "   ---------------------------------------- 0.0/99.8 MB ? eta -:--:--\n",
      "   ---------------------------------------- 0.1/99.8 MB 656.4 kB/s eta 0:02:32\n",
      "   ---------------------------------------- 0.3/99.8 MB 2.2 MB/s eta 0:00:45\n",
      "   ---------------------------------------- 1.1/99.8 MB 6.3 MB/s eta 0:00:16\n",
      "    --------------------------------------- 2.0/99.8 MB 9.0 MB/s eta 0:00:11\n",
      "   - -------------------------------------- 3.4/99.8 MB 12.7 MB/s eta 0:00:08\n",
      "   - -------------------------------------- 3.8/99.8 MB 13.4 MB/s eta 0:00:08\n",
      "   - -------------------------------------- 4.4/99.8 MB 12.3 MB/s eta 0:00:08\n",
      "   - -------------------------------------- 4.9/99.8 MB 12.7 MB/s eta 0:00:08\n",
      "   -- ------------------------------------- 5.7/99.8 MB 12.6 MB/s eta 0:00:08\n",
      "   -- ------------------------------------- 6.5/99.8 MB 13.0 MB/s eta 0:00:08\n",
      "   -- ------------------------------------- 6.9/99.8 MB 13.0 MB/s eta 0:00:08\n",
      "   -- ------------------------------------- 6.9/99.8 MB 12.3 MB/s eta 0:00:08\n",
      "   --- ------------------------------------ 8.5/99.8 MB 13.2 MB/s eta 0:00:07\n",
      "   --- ------------------------------------ 9.2/99.8 MB 13.3 MB/s eta 0:00:07\n",
      "   --- ------------------------------------ 9.2/99.8 MB 12.8 MB/s eta 0:00:08\n",
      "   ---- ----------------------------------- 10.4/99.8 MB 15.2 MB/s eta 0:00:06\n",
      "   ---- ----------------------------------- 10.9/99.8 MB 15.2 MB/s eta 0:00:06\n",
      "   ---- ----------------------------------- 11.2/99.8 MB 14.9 MB/s eta 0:00:06\n",
      "   ---- ----------------------------------- 11.7/99.8 MB 14.2 MB/s eta 0:00:07\n",
      "   ---- ----------------------------------- 12.2/99.8 MB 13.6 MB/s eta 0:00:07\n",
      "   ----- ---------------------------------- 12.5/99.8 MB 13.1 MB/s eta 0:00:07\n",
      "   ----- ---------------------------------- 13.0/99.8 MB 12.4 MB/s eta 0:00:08\n",
      "   ----- ---------------------------------- 13.5/99.8 MB 12.1 MB/s eta 0:00:08\n",
      "   ----- ---------------------------------- 14.0/99.8 MB 11.7 MB/s eta 0:00:08\n",
      "   ----- ---------------------------------- 14.5/99.8 MB 12.1 MB/s eta 0:00:08\n",
      "   ----- ---------------------------------- 15.0/99.8 MB 11.7 MB/s eta 0:00:08\n",
      "   ------ --------------------------------- 15.5/99.8 MB 12.1 MB/s eta 0:00:07\n",
      "   ------ --------------------------------- 16.0/99.8 MB 11.5 MB/s eta 0:00:08\n",
      "   ------ --------------------------------- 16.5/99.8 MB 11.3 MB/s eta 0:00:08\n",
      "   ------ --------------------------------- 17.0/99.8 MB 11.1 MB/s eta 0:00:08\n",
      "   ------- -------------------------------- 17.5/99.8 MB 11.9 MB/s eta 0:00:07\n",
      "   ------- -------------------------------- 18.1/99.8 MB 11.3 MB/s eta 0:00:08\n",
      "   ------- -------------------------------- 18.6/99.8 MB 10.7 MB/s eta 0:00:08\n",
      "   ------- -------------------------------- 19.1/99.8 MB 10.7 MB/s eta 0:00:08\n",
      "   ------- -------------------------------- 19.6/99.8 MB 11.1 MB/s eta 0:00:08\n",
      "   -------- ------------------------------- 20.1/99.8 MB 10.6 MB/s eta 0:00:08\n",
      "   -------- ------------------------------- 20.6/99.8 MB 10.4 MB/s eta 0:00:08\n",
      "   -------- ------------------------------- 21.2/99.8 MB 10.4 MB/s eta 0:00:08\n",
      "   -------- ------------------------------- 21.7/99.8 MB 10.7 MB/s eta 0:00:08\n",
      "   -------- ------------------------------- 22.3/99.8 MB 10.9 MB/s eta 0:00:08\n",
      "   --------- ------------------------------ 22.8/99.8 MB 10.9 MB/s eta 0:00:08\n",
      "   --------- ------------------------------ 23.3/99.8 MB 11.1 MB/s eta 0:00:07\n",
      "   --------- ------------------------------ 23.8/99.8 MB 11.3 MB/s eta 0:00:07\n",
      "   --------- ------------------------------ 24.4/99.8 MB 11.3 MB/s eta 0:00:07\n",
      "   ---------- ----------------------------- 25.0/99.8 MB 11.3 MB/s eta 0:00:07\n",
      "   ---------- ----------------------------- 25.5/99.8 MB 11.5 MB/s eta 0:00:07\n",
      "   ---------- ----------------------------- 26.0/99.8 MB 11.5 MB/s eta 0:00:07\n",
      "   ---------- ----------------------------- 26.6/99.8 MB 11.5 MB/s eta 0:00:07\n",
      "   ---------- ----------------------------- 27.2/99.8 MB 11.5 MB/s eta 0:00:07\n",
      "   ----------- ---------------------------- 27.7/99.8 MB 11.5 MB/s eta 0:00:07\n",
      "   ----------- ---------------------------- 28.3/99.8 MB 11.7 MB/s eta 0:00:07\n",
      "   ----------- ---------------------------- 28.9/99.8 MB 11.7 MB/s eta 0:00:07\n",
      "   ----------- ---------------------------- 29.4/99.8 MB 11.7 MB/s eta 0:00:07\n",
      "   ------------ --------------------------- 30.0/99.8 MB 11.9 MB/s eta 0:00:06\n",
      "   ------------ --------------------------- 30.6/99.8 MB 11.9 MB/s eta 0:00:06\n",
      "   ------------ --------------------------- 31.2/99.8 MB 11.9 MB/s eta 0:00:06\n",
      "   ------------ --------------------------- 31.8/99.8 MB 12.1 MB/s eta 0:00:06\n",
      "   ------------ --------------------------- 32.3/99.8 MB 12.1 MB/s eta 0:00:06\n",
      "   ------------- -------------------------- 32.9/99.8 MB 12.1 MB/s eta 0:00:06\n",
      "   ------------- -------------------------- 33.5/99.8 MB 12.1 MB/s eta 0:00:06\n",
      "   ------------- -------------------------- 34.2/99.8 MB 12.3 MB/s eta 0:00:06\n",
      "   ------------- -------------------------- 34.7/99.8 MB 12.4 MB/s eta 0:00:06\n",
      "   -------------- ------------------------- 35.4/99.8 MB 12.6 MB/s eta 0:00:06\n",
      "   -------------- ------------------------- 36.0/99.8 MB 12.6 MB/s eta 0:00:06\n",
      "   -------------- ------------------------- 36.6/99.8 MB 12.6 MB/s eta 0:00:06\n",
      "   -------------- ------------------------- 37.2/99.8 MB 12.8 MB/s eta 0:00:05\n",
      "   --------------- ------------------------ 37.8/99.8 MB 12.8 MB/s eta 0:00:05\n",
      "   --------------- ------------------------ 38.4/99.8 MB 12.8 MB/s eta 0:00:05\n",
      "   --------------- ------------------------ 39.0/99.8 MB 12.8 MB/s eta 0:00:05\n",
      "   --------------- ------------------------ 39.6/99.8 MB 12.9 MB/s eta 0:00:05\n",
      "   ---------------- ----------------------- 40.2/99.8 MB 12.8 MB/s eta 0:00:05\n",
      "   ---------------- ----------------------- 40.8/99.8 MB 12.8 MB/s eta 0:00:05\n",
      "   ---------------- ----------------------- 41.5/99.8 MB 13.1 MB/s eta 0:00:05\n",
      "   ---------------- ----------------------- 42.1/99.8 MB 13.1 MB/s eta 0:00:05\n",
      "   ----------------- ---------------------- 42.8/99.8 MB 13.1 MB/s eta 0:00:05\n",
      "   ----------------- ---------------------- 43.4/99.8 MB 13.4 MB/s eta 0:00:05\n",
      "   ----------------- ---------------------- 44.1/99.8 MB 13.4 MB/s eta 0:00:05\n",
      "   ----------------- ---------------------- 44.7/99.8 MB 13.4 MB/s eta 0:00:05\n",
      "   ------------------ --------------------- 45.4/99.8 MB 13.4 MB/s eta 0:00:05\n",
      "   ------------------ --------------------- 46.0/99.8 MB 13.4 MB/s eta 0:00:05\n",
      "   ------------------ --------------------- 46.6/99.8 MB 13.4 MB/s eta 0:00:04\n",
      "   ------------------ --------------------- 47.3/99.8 MB 13.6 MB/s eta 0:00:04\n",
      "   ------------------- -------------------- 48.0/99.8 MB 13.6 MB/s eta 0:00:04\n",
      "   ------------------- -------------------- 48.7/99.8 MB 13.6 MB/s eta 0:00:04\n",
      "   ------------------- -------------------- 49.3/99.8 MB 14.2 MB/s eta 0:00:04\n",
      "   -------------------- ------------------- 50.0/99.8 MB 13.9 MB/s eta 0:00:04\n",
      "   -------------------- ------------------- 50.6/99.8 MB 13.9 MB/s eta 0:00:04\n",
      "   -------------------- ------------------- 51.3/99.8 MB 13.9 MB/s eta 0:00:04\n",
      "   -------------------- ------------------- 51.9/99.8 MB 13.9 MB/s eta 0:00:04\n",
      "   --------------------- ------------------ 52.5/99.8 MB 14.2 MB/s eta 0:00:04\n",
      "   --------------------- ------------------ 53.1/99.8 MB 13.6 MB/s eta 0:00:04\n",
      "   --------------------- ------------------ 53.7/99.8 MB 13.6 MB/s eta 0:00:04\n",
      "   --------------------- ------------------ 54.3/99.8 MB 13.6 MB/s eta 0:00:04\n",
      "   ---------------------- ----------------- 54.9/99.8 MB 13.6 MB/s eta 0:00:04\n",
      "   ---------------------- ----------------- 55.5/99.8 MB 13.4 MB/s eta 0:00:04\n",
      "   ---------------------- ----------------- 56.1/99.8 MB 13.6 MB/s eta 0:00:04\n",
      "   ---------------------- ----------------- 56.7/99.8 MB 13.6 MB/s eta 0:00:04\n",
      "   ---------------------- ----------------- 57.2/99.8 MB 13.4 MB/s eta 0:00:04\n",
      "   ----------------------- ---------------- 57.8/99.8 MB 13.4 MB/s eta 0:00:04\n",
      "   ----------------------- ---------------- 58.4/99.8 MB 13.1 MB/s eta 0:00:04\n",
      "   ----------------------- ---------------- 59.0/99.8 MB 13.1 MB/s eta 0:00:04\n",
      "   ----------------------- ---------------- 59.6/99.8 MB 13.1 MB/s eta 0:00:04\n",
      "   ------------------------ --------------- 60.2/99.8 MB 12.8 MB/s eta 0:00:04\n",
      "   ------------------------ --------------- 60.8/99.8 MB 12.8 MB/s eta 0:00:04\n",
      "   ------------------------ --------------- 61.4/99.8 MB 12.9 MB/s eta 0:00:03\n",
      "   ------------------------ --------------- 62.0/99.8 MB 12.8 MB/s eta 0:00:03\n",
      "   ------------------------- -------------- 62.6/99.8 MB 12.8 MB/s eta 0:00:03\n",
      "   ------------------------- -------------- 63.2/99.8 MB 12.8 MB/s eta 0:00:03\n",
      "   ------------------------- -------------- 63.8/99.8 MB 12.8 MB/s eta 0:00:03\n",
      "   ------------------------- -------------- 64.3/99.8 MB 12.8 MB/s eta 0:00:03\n",
      "   -------------------------- ------------- 64.9/99.8 MB 12.6 MB/s eta 0:00:03\n",
      "   -------------------------- ------------- 65.5/99.8 MB 12.6 MB/s eta 0:00:03\n",
      "   -------------------------- ------------- 66.1/99.8 MB 12.6 MB/s eta 0:00:03\n",
      "   -------------------------- ------------- 66.7/99.8 MB 12.6 MB/s eta 0:00:03\n",
      "   -------------------------- ------------- 67.3/99.8 MB 12.6 MB/s eta 0:00:03\n",
      "   --------------------------- ------------ 67.8/99.8 MB 12.6 MB/s eta 0:00:03\n",
      "   --------------------------- ------------ 68.4/99.8 MB 12.6 MB/s eta 0:00:03\n",
      "   --------------------------- ------------ 69.0/99.8 MB 12.6 MB/s eta 0:00:03\n",
      "   --------------------------- ------------ 69.6/99.8 MB 12.6 MB/s eta 0:00:03\n",
      "   ---------------------------- ----------- 70.2/99.8 MB 12.6 MB/s eta 0:00:03\n",
      "   ---------------------------- ----------- 70.8/99.8 MB 12.6 MB/s eta 0:00:03\n",
      "   ---------------------------- ----------- 71.4/99.8 MB 12.6 MB/s eta 0:00:03\n",
      "   ---------------------------- ----------- 72.0/99.8 MB 12.6 MB/s eta 0:00:03\n",
      "   ----------------------------- ---------- 72.6/99.8 MB 12.6 MB/s eta 0:00:03\n",
      "   ----------------------------- ---------- 73.1/99.8 MB 12.6 MB/s eta 0:00:03\n",
      "   ----------------------------- ---------- 73.7/99.8 MB 12.6 MB/s eta 0:00:03\n",
      "   ----------------------------- ---------- 74.3/99.8 MB 12.6 MB/s eta 0:00:03\n",
      "   ------------------------------ --------- 74.9/99.8 MB 12.6 MB/s eta 0:00:02\n",
      "   ------------------------------ --------- 75.5/99.8 MB 12.6 MB/s eta 0:00:02\n",
      "   ------------------------------ --------- 76.1/99.8 MB 12.6 MB/s eta 0:00:02\n",
      "   ------------------------------ --------- 76.7/99.8 MB 12.6 MB/s eta 0:00:02\n",
      "   ------------------------------ --------- 77.3/99.8 MB 12.6 MB/s eta 0:00:02\n",
      "   ------------------------------- -------- 77.8/99.8 MB 12.6 MB/s eta 0:00:02\n",
      "   ------------------------------- -------- 78.4/99.8 MB 12.6 MB/s eta 0:00:02\n",
      "   ------------------------------- -------- 79.0/99.8 MB 12.8 MB/s eta 0:00:02\n",
      "   ------------------------------- -------- 79.6/99.8 MB 12.8 MB/s eta 0:00:02\n",
      "   -------------------------------- ------- 80.2/99.8 MB 12.8 MB/s eta 0:00:02\n",
      "   -------------------------------- ------- 80.8/99.8 MB 12.8 MB/s eta 0:00:02\n",
      "   -------------------------------- ------- 81.4/99.8 MB 12.8 MB/s eta 0:00:02\n",
      "   -------------------------------- ------- 82.0/99.8 MB 12.9 MB/s eta 0:00:02\n",
      "   --------------------------------- ------ 82.5/99.8 MB 12.8 MB/s eta 0:00:02\n",
      "   --------------------------------- ------ 83.0/99.8 MB 12.6 MB/s eta 0:00:02\n",
      "   --------------------------------- ------ 83.6/99.8 MB 12.9 MB/s eta 0:00:02\n",
      "   --------------------------------- ------ 84.2/99.8 MB 12.6 MB/s eta 0:00:02\n",
      "   --------------------------------- ------ 84.6/99.8 MB 12.4 MB/s eta 0:00:02\n",
      "   ---------------------------------- ----- 85.0/99.8 MB 12.1 MB/s eta 0:00:02\n",
      "   ---------------------------------- ----- 85.4/99.8 MB 11.9 MB/s eta 0:00:02\n",
      "   ---------------------------------- ----- 85.8/99.8 MB 11.7 MB/s eta 0:00:02\n",
      "   ---------------------------------- ----- 86.2/99.8 MB 11.5 MB/s eta 0:00:02\n",
      "   ---------------------------------- ----- 86.7/99.8 MB 11.3 MB/s eta 0:00:02\n",
      "   ---------------------------------- ----- 87.1/99.8 MB 11.3 MB/s eta 0:00:02\n",
      "   ----------------------------------- ---- 87.5/99.8 MB 11.1 MB/s eta 0:00:02\n",
      "   ----------------------------------- ---- 88.0/99.8 MB 10.9 MB/s eta 0:00:02\n",
      "   ----------------------------------- ---- 88.4/99.8 MB 10.7 MB/s eta 0:00:02\n",
      "   ----------------------------------- ---- 88.8/99.8 MB 10.6 MB/s eta 0:00:02\n",
      "   ----------------------------------- ---- 89.3/99.8 MB 10.6 MB/s eta 0:00:01\n",
      "   ----------------------------------- ---- 89.7/99.8 MB 10.4 MB/s eta 0:00:01\n",
      "   ------------------------------------ --- 90.1/99.8 MB 10.2 MB/s eta 0:00:01\n",
      "   ------------------------------------ --- 90.6/99.8 MB 10.1 MB/s eta 0:00:01\n",
      "   ------------------------------------ --- 91.0/99.8 MB 9.9 MB/s eta 0:00:01\n",
      "   ------------------------------------ --- 91.5/99.8 MB 9.9 MB/s eta 0:00:01\n",
      "   ------------------------------------ --- 91.9/99.8 MB 9.8 MB/s eta 0:00:01\n",
      "   ------------------------------------- -- 92.4/99.8 MB 9.6 MB/s eta 0:00:01\n",
      "   ------------------------------------- -- 92.8/99.8 MB 9.5 MB/s eta 0:00:01\n",
      "   ------------------------------------- -- 93.3/99.8 MB 9.8 MB/s eta 0:00:01\n",
      "   ------------------------------------- -- 93.7/99.8 MB 9.4 MB/s eta 0:00:01\n",
      "   ------------------------------------- -- 94.2/99.8 MB 9.4 MB/s eta 0:00:01\n",
      "   ------------------------------------- -- 94.7/99.8 MB 9.5 MB/s eta 0:00:01\n",
      "   -------------------------------------- - 95.2/99.8 MB 9.5 MB/s eta 0:00:01\n",
      "   -------------------------------------- - 95.7/99.8 MB 9.6 MB/s eta 0:00:01\n",
      "   -------------------------------------- - 96.1/99.8 MB 9.6 MB/s eta 0:00:01\n",
      "   -------------------------------------- - 96.6/99.8 MB 9.8 MB/s eta 0:00:01\n",
      "   -------------------------------------- - 97.1/99.8 MB 9.8 MB/s eta 0:00:01\n",
      "   ---------------------------------------  97.6/99.8 MB 9.8 MB/s eta 0:00:01\n",
      "   ---------------------------------------  98.1/99.8 MB 9.9 MB/s eta 0:00:01\n",
      "   ---------------------------------------  98.6/99.8 MB 9.9 MB/s eta 0:00:01\n",
      "   ---------------------------------------  99.2/99.8 MB 10.1 MB/s eta 0:00:01\n",
      "   ---------------------------------------  99.7/99.8 MB 10.1 MB/s eta 0:00:01\n",
      "   ---------------------------------------  99.7/99.8 MB 10.2 MB/s eta 0:00:01\n",
      "   ---------------------------------------  99.7/99.8 MB 10.2 MB/s eta 0:00:01\n",
      "   ---------------------------------------  99.7/99.8 MB 10.2 MB/s eta 0:00:01\n",
      "   ---------------------------------------- 99.8/99.8 MB 8.7 MB/s eta 0:00:00\n",
      "Installing collected packages: xgboost\n",
      "Successfully installed xgboost-2.0.3\n"
     ]
    }
   ],
   "source": [
    "!pip install xgboost"
   ]
  },
  {
   "cell_type": "code",
   "execution_count": 21,
   "metadata": {},
   "outputs": [
    {
     "name": "stdout",
     "output_type": "stream",
     "text": [
      "Ridge - MAE: 0.041451971000136215\n",
      "Lasso - MAE: 0.0414553103\n",
      "ElasticNet - MAE: 0.0414553103\n",
      "Decision Tree - MAE: 0.05808900000000001\n",
      "Random Forest - MAE: 0.04217235\n",
      "Gradient Boosting - MAE: 0.0414616233715646\n",
      "XGBoost - MAE: 0.04215384623048454\n",
      "SVR - MAE: 0.04507545099781603\n",
      "\n",
      "Model Performance:\n",
      "Ridge: 0.041451971000136215\n",
      "Lasso: 0.0414553103\n",
      "ElasticNet: 0.0414553103\n",
      "Decision Tree: 0.05808900000000001\n",
      "Random Forest: 0.04217235\n",
      "Gradient Boosting: 0.0414616233715646\n",
      "XGBoost: 0.04215384623048454\n",
      "SVR: 0.04507545099781603\n"
     ]
    }
   ],
   "source": [
    "from sklearn.linear_model import Ridge, Lasso, ElasticNet\n",
    "from sklearn.tree import DecisionTreeRegressor\n",
    "from sklearn.ensemble import RandomForestRegressor, GradientBoostingRegressor\n",
    "from xgboost import XGBRegressor\n",
    "from sklearn.svm import SVR\n",
    "from sklearn.metrics import mean_absolute_error\n",
    "from sklearn.model_selection import train_test_split\n",
    "\n",
    "# Define the models to compare\n",
    "models = {\n",
    "    'Ridge': Ridge(),\n",
    "    'Lasso': Lasso(),\n",
    "    'ElasticNet': ElasticNet(),\n",
    "    'Decision Tree': DecisionTreeRegressor(),\n",
    "    'Random Forest': RandomForestRegressor(),\n",
    "    'Gradient Boosting': GradientBoostingRegressor(),\n",
    "    'XGBoost': XGBRegressor(),\n",
    "    'SVR': SVR()\n",
    "}\n",
    "\n",
    "# Split the data\n",
    "X_train, X_test, y_train, y_test = train_test_split(X_processed, y_low['s1_low'], test_size=0.2, random_state=42)\n",
    "\n",
    "# Evaluate each model\n",
    "results = {}\n",
    "for name, model in models.items():\n",
    "    model.fit(X_train, y_train)\n",
    "    y_pred = model.predict(X_test)\n",
    "    mae = mean_absolute_error(y_test, y_pred)\n",
    "    results[name] = mae\n",
    "    print(f'{name} - MAE: {mae}')\n",
    "\n",
    "# Display the results\n",
    "print(\"\\nModel Performance:\")\n",
    "for name, mae in results.items():\n",
    "    print(f\"{name}: {mae}\")"
   ]
  },
  {
   "cell_type": "code",
   "execution_count": 22,
   "metadata": {},
   "outputs": [
    {
     "name": "stdout",
     "output_type": "stream",
     "text": [
      "Fitting 3 folds for each of 108 candidates, totalling 324 fits\n"
     ]
    },
    {
     "ename": "KeyboardInterrupt",
     "evalue": "",
     "output_type": "error",
     "traceback": [
      "\u001b[1;31m---------------------------------------------------------------------------\u001b[0m",
      "\u001b[1;31mKeyboardInterrupt\u001b[0m                         Traceback (most recent call last)",
      "Cell \u001b[1;32mIn[22], line 12\u001b[0m\n\u001b[0;32m      4\u001b[0m param_grid \u001b[38;5;241m=\u001b[39m {\n\u001b[0;32m      5\u001b[0m     \u001b[38;5;124m'\u001b[39m\u001b[38;5;124mn_estimators\u001b[39m\u001b[38;5;124m'\u001b[39m: [\u001b[38;5;241m100\u001b[39m, \u001b[38;5;241m200\u001b[39m, \u001b[38;5;241m300\u001b[39m],\n\u001b[0;32m      6\u001b[0m     \u001b[38;5;124m'\u001b[39m\u001b[38;5;124mmax_depth\u001b[39m\u001b[38;5;124m'\u001b[39m: [\u001b[38;5;28;01mNone\u001b[39;00m, \u001b[38;5;241m10\u001b[39m, \u001b[38;5;241m20\u001b[39m, \u001b[38;5;241m30\u001b[39m],\n\u001b[0;32m      7\u001b[0m     \u001b[38;5;124m'\u001b[39m\u001b[38;5;124mmin_samples_split\u001b[39m\u001b[38;5;124m'\u001b[39m: [\u001b[38;5;241m2\u001b[39m, \u001b[38;5;241m5\u001b[39m, \u001b[38;5;241m10\u001b[39m],\n\u001b[0;32m      8\u001b[0m     \u001b[38;5;124m'\u001b[39m\u001b[38;5;124mmin_samples_leaf\u001b[39m\u001b[38;5;124m'\u001b[39m: [\u001b[38;5;241m1\u001b[39m, \u001b[38;5;241m2\u001b[39m, \u001b[38;5;241m4\u001b[39m]\n\u001b[0;32m      9\u001b[0m }\n\u001b[0;32m     11\u001b[0m grid_search \u001b[38;5;241m=\u001b[39m GridSearchCV(estimator\u001b[38;5;241m=\u001b[39mRandomForestRegressor(), param_grid\u001b[38;5;241m=\u001b[39mparam_grid, cv\u001b[38;5;241m=\u001b[39m\u001b[38;5;241m3\u001b[39m, n_jobs\u001b[38;5;241m=\u001b[39m\u001b[38;5;241m-\u001b[39m\u001b[38;5;241m1\u001b[39m, verbose\u001b[38;5;241m=\u001b[39m\u001b[38;5;241m2\u001b[39m)\n\u001b[1;32m---> 12\u001b[0m \u001b[43mgrid_search\u001b[49m\u001b[38;5;241;43m.\u001b[39;49m\u001b[43mfit\u001b[49m\u001b[43m(\u001b[49m\u001b[43mX_train\u001b[49m\u001b[43m,\u001b[49m\u001b[43m \u001b[49m\u001b[43my_train\u001b[49m\u001b[43m)\u001b[49m\n\u001b[0;32m     14\u001b[0m \u001b[38;5;28mprint\u001b[39m(\u001b[38;5;124mf\u001b[39m\u001b[38;5;124m\"\u001b[39m\u001b[38;5;124mBest parameters: \u001b[39m\u001b[38;5;132;01m{\u001b[39;00mgrid_search\u001b[38;5;241m.\u001b[39mbest_params_\u001b[38;5;132;01m}\u001b[39;00m\u001b[38;5;124m\"\u001b[39m)\n\u001b[0;32m     15\u001b[0m best_model \u001b[38;5;241m=\u001b[39m grid_search\u001b[38;5;241m.\u001b[39mbest_estimator_\n",
      "File \u001b[1;32mc:\\Users\\Anand\\AppData\\Local\\Programs\\Python\\Python311\\Lib\\site-packages\\sklearn\\base.py:1351\u001b[0m, in \u001b[0;36m_fit_context.<locals>.decorator.<locals>.wrapper\u001b[1;34m(estimator, *args, **kwargs)\u001b[0m\n\u001b[0;32m   1344\u001b[0m     estimator\u001b[38;5;241m.\u001b[39m_validate_params()\n\u001b[0;32m   1346\u001b[0m \u001b[38;5;28;01mwith\u001b[39;00m config_context(\n\u001b[0;32m   1347\u001b[0m     skip_parameter_validation\u001b[38;5;241m=\u001b[39m(\n\u001b[0;32m   1348\u001b[0m         prefer_skip_nested_validation \u001b[38;5;129;01mor\u001b[39;00m global_skip_validation\n\u001b[0;32m   1349\u001b[0m     )\n\u001b[0;32m   1350\u001b[0m ):\n\u001b[1;32m-> 1351\u001b[0m     \u001b[38;5;28;01mreturn\u001b[39;00m \u001b[43mfit_method\u001b[49m\u001b[43m(\u001b[49m\u001b[43mestimator\u001b[49m\u001b[43m,\u001b[49m\u001b[43m \u001b[49m\u001b[38;5;241;43m*\u001b[39;49m\u001b[43margs\u001b[49m\u001b[43m,\u001b[49m\u001b[43m \u001b[49m\u001b[38;5;241;43m*\u001b[39;49m\u001b[38;5;241;43m*\u001b[39;49m\u001b[43mkwargs\u001b[49m\u001b[43m)\u001b[49m\n",
      "File \u001b[1;32mc:\\Users\\Anand\\AppData\\Local\\Programs\\Python\\Python311\\Lib\\site-packages\\sklearn\\model_selection\\_search.py:970\u001b[0m, in \u001b[0;36mBaseSearchCV.fit\u001b[1;34m(self, X, y, **params)\u001b[0m\n\u001b[0;32m    964\u001b[0m     results \u001b[38;5;241m=\u001b[39m \u001b[38;5;28mself\u001b[39m\u001b[38;5;241m.\u001b[39m_format_results(\n\u001b[0;32m    965\u001b[0m         all_candidate_params, n_splits, all_out, all_more_results\n\u001b[0;32m    966\u001b[0m     )\n\u001b[0;32m    968\u001b[0m     \u001b[38;5;28;01mreturn\u001b[39;00m results\n\u001b[1;32m--> 970\u001b[0m \u001b[38;5;28;43mself\u001b[39;49m\u001b[38;5;241;43m.\u001b[39;49m\u001b[43m_run_search\u001b[49m\u001b[43m(\u001b[49m\u001b[43mevaluate_candidates\u001b[49m\u001b[43m)\u001b[49m\n\u001b[0;32m    972\u001b[0m \u001b[38;5;66;03m# multimetric is determined here because in the case of a callable\u001b[39;00m\n\u001b[0;32m    973\u001b[0m \u001b[38;5;66;03m# self.scoring the return type is only known after calling\u001b[39;00m\n\u001b[0;32m    974\u001b[0m first_test_score \u001b[38;5;241m=\u001b[39m all_out[\u001b[38;5;241m0\u001b[39m][\u001b[38;5;124m\"\u001b[39m\u001b[38;5;124mtest_scores\u001b[39m\u001b[38;5;124m\"\u001b[39m]\n",
      "File \u001b[1;32mc:\\Users\\Anand\\AppData\\Local\\Programs\\Python\\Python311\\Lib\\site-packages\\sklearn\\model_selection\\_search.py:1527\u001b[0m, in \u001b[0;36mGridSearchCV._run_search\u001b[1;34m(self, evaluate_candidates)\u001b[0m\n\u001b[0;32m   1525\u001b[0m \u001b[38;5;28;01mdef\u001b[39;00m \u001b[38;5;21m_run_search\u001b[39m(\u001b[38;5;28mself\u001b[39m, evaluate_candidates):\n\u001b[0;32m   1526\u001b[0m \u001b[38;5;250m    \u001b[39m\u001b[38;5;124;03m\"\"\"Search all candidates in param_grid\"\"\"\u001b[39;00m\n\u001b[1;32m-> 1527\u001b[0m     \u001b[43mevaluate_candidates\u001b[49m\u001b[43m(\u001b[49m\u001b[43mParameterGrid\u001b[49m\u001b[43m(\u001b[49m\u001b[38;5;28;43mself\u001b[39;49m\u001b[38;5;241;43m.\u001b[39;49m\u001b[43mparam_grid\u001b[49m\u001b[43m)\u001b[49m\u001b[43m)\u001b[49m\n",
      "File \u001b[1;32mc:\\Users\\Anand\\AppData\\Local\\Programs\\Python\\Python311\\Lib\\site-packages\\sklearn\\model_selection\\_search.py:916\u001b[0m, in \u001b[0;36mBaseSearchCV.fit.<locals>.evaluate_candidates\u001b[1;34m(candidate_params, cv, more_results)\u001b[0m\n\u001b[0;32m    908\u001b[0m \u001b[38;5;28;01mif\u001b[39;00m \u001b[38;5;28mself\u001b[39m\u001b[38;5;241m.\u001b[39mverbose \u001b[38;5;241m>\u001b[39m \u001b[38;5;241m0\u001b[39m:\n\u001b[0;32m    909\u001b[0m     \u001b[38;5;28mprint\u001b[39m(\n\u001b[0;32m    910\u001b[0m         \u001b[38;5;124m\"\u001b[39m\u001b[38;5;124mFitting \u001b[39m\u001b[38;5;132;01m{0}\u001b[39;00m\u001b[38;5;124m folds for each of \u001b[39m\u001b[38;5;132;01m{1}\u001b[39;00m\u001b[38;5;124m candidates,\u001b[39m\u001b[38;5;124m\"\u001b[39m\n\u001b[0;32m    911\u001b[0m         \u001b[38;5;124m\"\u001b[39m\u001b[38;5;124m totalling \u001b[39m\u001b[38;5;132;01m{2}\u001b[39;00m\u001b[38;5;124m fits\u001b[39m\u001b[38;5;124m\"\u001b[39m\u001b[38;5;241m.\u001b[39mformat(\n\u001b[0;32m    912\u001b[0m             n_splits, n_candidates, n_candidates \u001b[38;5;241m*\u001b[39m n_splits\n\u001b[0;32m    913\u001b[0m         )\n\u001b[0;32m    914\u001b[0m     )\n\u001b[1;32m--> 916\u001b[0m out \u001b[38;5;241m=\u001b[39m \u001b[43mparallel\u001b[49m\u001b[43m(\u001b[49m\n\u001b[0;32m    917\u001b[0m \u001b[43m    \u001b[49m\u001b[43mdelayed\u001b[49m\u001b[43m(\u001b[49m\u001b[43m_fit_and_score\u001b[49m\u001b[43m)\u001b[49m\u001b[43m(\u001b[49m\n\u001b[0;32m    918\u001b[0m \u001b[43m        \u001b[49m\u001b[43mclone\u001b[49m\u001b[43m(\u001b[49m\u001b[43mbase_estimator\u001b[49m\u001b[43m)\u001b[49m\u001b[43m,\u001b[49m\n\u001b[0;32m    919\u001b[0m \u001b[43m        \u001b[49m\u001b[43mX\u001b[49m\u001b[43m,\u001b[49m\n\u001b[0;32m    920\u001b[0m \u001b[43m        \u001b[49m\u001b[43my\u001b[49m\u001b[43m,\u001b[49m\n\u001b[0;32m    921\u001b[0m \u001b[43m        \u001b[49m\u001b[43mtrain\u001b[49m\u001b[38;5;241;43m=\u001b[39;49m\u001b[43mtrain\u001b[49m\u001b[43m,\u001b[49m\n\u001b[0;32m    922\u001b[0m \u001b[43m        \u001b[49m\u001b[43mtest\u001b[49m\u001b[38;5;241;43m=\u001b[39;49m\u001b[43mtest\u001b[49m\u001b[43m,\u001b[49m\n\u001b[0;32m    923\u001b[0m \u001b[43m        \u001b[49m\u001b[43mparameters\u001b[49m\u001b[38;5;241;43m=\u001b[39;49m\u001b[43mparameters\u001b[49m\u001b[43m,\u001b[49m\n\u001b[0;32m    924\u001b[0m \u001b[43m        \u001b[49m\u001b[43msplit_progress\u001b[49m\u001b[38;5;241;43m=\u001b[39;49m\u001b[43m(\u001b[49m\u001b[43msplit_idx\u001b[49m\u001b[43m,\u001b[49m\u001b[43m \u001b[49m\u001b[43mn_splits\u001b[49m\u001b[43m)\u001b[49m\u001b[43m,\u001b[49m\n\u001b[0;32m    925\u001b[0m \u001b[43m        \u001b[49m\u001b[43mcandidate_progress\u001b[49m\u001b[38;5;241;43m=\u001b[39;49m\u001b[43m(\u001b[49m\u001b[43mcand_idx\u001b[49m\u001b[43m,\u001b[49m\u001b[43m \u001b[49m\u001b[43mn_candidates\u001b[49m\u001b[43m)\u001b[49m\u001b[43m,\u001b[49m\n\u001b[0;32m    926\u001b[0m \u001b[43m        \u001b[49m\u001b[38;5;241;43m*\u001b[39;49m\u001b[38;5;241;43m*\u001b[39;49m\u001b[43mfit_and_score_kwargs\u001b[49m\u001b[43m,\u001b[49m\n\u001b[0;32m    927\u001b[0m \u001b[43m    \u001b[49m\u001b[43m)\u001b[49m\n\u001b[0;32m    928\u001b[0m \u001b[43m    \u001b[49m\u001b[38;5;28;43;01mfor\u001b[39;49;00m\u001b[43m \u001b[49m\u001b[43m(\u001b[49m\u001b[43mcand_idx\u001b[49m\u001b[43m,\u001b[49m\u001b[43m \u001b[49m\u001b[43mparameters\u001b[49m\u001b[43m)\u001b[49m\u001b[43m,\u001b[49m\u001b[43m \u001b[49m\u001b[43m(\u001b[49m\u001b[43msplit_idx\u001b[49m\u001b[43m,\u001b[49m\u001b[43m \u001b[49m\u001b[43m(\u001b[49m\u001b[43mtrain\u001b[49m\u001b[43m,\u001b[49m\u001b[43m \u001b[49m\u001b[43mtest\u001b[49m\u001b[43m)\u001b[49m\u001b[43m)\u001b[49m\u001b[43m \u001b[49m\u001b[38;5;129;43;01min\u001b[39;49;00m\u001b[43m \u001b[49m\u001b[43mproduct\u001b[49m\u001b[43m(\u001b[49m\n\u001b[0;32m    929\u001b[0m \u001b[43m        \u001b[49m\u001b[38;5;28;43menumerate\u001b[39;49m\u001b[43m(\u001b[49m\u001b[43mcandidate_params\u001b[49m\u001b[43m)\u001b[49m\u001b[43m,\u001b[49m\n\u001b[0;32m    930\u001b[0m \u001b[43m        \u001b[49m\u001b[38;5;28;43menumerate\u001b[39;49m\u001b[43m(\u001b[49m\u001b[43mcv\u001b[49m\u001b[38;5;241;43m.\u001b[39;49m\u001b[43msplit\u001b[49m\u001b[43m(\u001b[49m\u001b[43mX\u001b[49m\u001b[43m,\u001b[49m\u001b[43m \u001b[49m\u001b[43my\u001b[49m\u001b[43m,\u001b[49m\u001b[43m \u001b[49m\u001b[38;5;241;43m*\u001b[39;49m\u001b[38;5;241;43m*\u001b[39;49m\u001b[43mrouted_params\u001b[49m\u001b[38;5;241;43m.\u001b[39;49m\u001b[43msplitter\u001b[49m\u001b[38;5;241;43m.\u001b[39;49m\u001b[43msplit\u001b[49m\u001b[43m)\u001b[49m\u001b[43m)\u001b[49m\u001b[43m,\u001b[49m\n\u001b[0;32m    931\u001b[0m \u001b[43m    \u001b[49m\u001b[43m)\u001b[49m\n\u001b[0;32m    932\u001b[0m \u001b[43m\u001b[49m\u001b[43m)\u001b[49m\n\u001b[0;32m    934\u001b[0m \u001b[38;5;28;01mif\u001b[39;00m \u001b[38;5;28mlen\u001b[39m(out) \u001b[38;5;241m<\u001b[39m \u001b[38;5;241m1\u001b[39m:\n\u001b[0;32m    935\u001b[0m     \u001b[38;5;28;01mraise\u001b[39;00m \u001b[38;5;167;01mValueError\u001b[39;00m(\n\u001b[0;32m    936\u001b[0m         \u001b[38;5;124m\"\u001b[39m\u001b[38;5;124mNo fits were performed. \u001b[39m\u001b[38;5;124m\"\u001b[39m\n\u001b[0;32m    937\u001b[0m         \u001b[38;5;124m\"\u001b[39m\u001b[38;5;124mWas the CV iterator empty? \u001b[39m\u001b[38;5;124m\"\u001b[39m\n\u001b[0;32m    938\u001b[0m         \u001b[38;5;124m\"\u001b[39m\u001b[38;5;124mWere there no candidates?\u001b[39m\u001b[38;5;124m\"\u001b[39m\n\u001b[0;32m    939\u001b[0m     )\n",
      "File \u001b[1;32mc:\\Users\\Anand\\AppData\\Local\\Programs\\Python\\Python311\\Lib\\site-packages\\sklearn\\utils\\parallel.py:67\u001b[0m, in \u001b[0;36mParallel.__call__\u001b[1;34m(self, iterable)\u001b[0m\n\u001b[0;32m     62\u001b[0m config \u001b[38;5;241m=\u001b[39m get_config()\n\u001b[0;32m     63\u001b[0m iterable_with_config \u001b[38;5;241m=\u001b[39m (\n\u001b[0;32m     64\u001b[0m     (_with_config(delayed_func, config), args, kwargs)\n\u001b[0;32m     65\u001b[0m     \u001b[38;5;28;01mfor\u001b[39;00m delayed_func, args, kwargs \u001b[38;5;129;01min\u001b[39;00m iterable\n\u001b[0;32m     66\u001b[0m )\n\u001b[1;32m---> 67\u001b[0m \u001b[38;5;28;01mreturn\u001b[39;00m \u001b[38;5;28;43msuper\u001b[39;49m\u001b[43m(\u001b[49m\u001b[43m)\u001b[49m\u001b[38;5;241;43m.\u001b[39;49m\u001b[38;5;21;43m__call__\u001b[39;49m\u001b[43m(\u001b[49m\u001b[43miterable_with_config\u001b[49m\u001b[43m)\u001b[49m\n",
      "File \u001b[1;32mc:\\Users\\Anand\\AppData\\Local\\Programs\\Python\\Python311\\Lib\\site-packages\\joblib\\parallel.py:1952\u001b[0m, in \u001b[0;36mParallel.__call__\u001b[1;34m(self, iterable)\u001b[0m\n\u001b[0;32m   1946\u001b[0m \u001b[38;5;66;03m# The first item from the output is blank, but it makes the interpreter\u001b[39;00m\n\u001b[0;32m   1947\u001b[0m \u001b[38;5;66;03m# progress until it enters the Try/Except block of the generator and\u001b[39;00m\n\u001b[0;32m   1948\u001b[0m \u001b[38;5;66;03m# reach the first `yield` statement. This starts the aynchronous\u001b[39;00m\n\u001b[0;32m   1949\u001b[0m \u001b[38;5;66;03m# dispatch of the tasks to the workers.\u001b[39;00m\n\u001b[0;32m   1950\u001b[0m \u001b[38;5;28mnext\u001b[39m(output)\n\u001b[1;32m-> 1952\u001b[0m \u001b[38;5;28;01mreturn\u001b[39;00m output \u001b[38;5;28;01mif\u001b[39;00m \u001b[38;5;28mself\u001b[39m\u001b[38;5;241m.\u001b[39mreturn_generator \u001b[38;5;28;01melse\u001b[39;00m \u001b[38;5;28;43mlist\u001b[39;49m\u001b[43m(\u001b[49m\u001b[43moutput\u001b[49m\u001b[43m)\u001b[49m\n",
      "File \u001b[1;32mc:\\Users\\Anand\\AppData\\Local\\Programs\\Python\\Python311\\Lib\\site-packages\\joblib\\parallel.py:1595\u001b[0m, in \u001b[0;36mParallel._get_outputs\u001b[1;34m(self, iterator, pre_dispatch)\u001b[0m\n\u001b[0;32m   1592\u001b[0m     \u001b[38;5;28;01myield\u001b[39;00m\n\u001b[0;32m   1594\u001b[0m     \u001b[38;5;28;01mwith\u001b[39;00m \u001b[38;5;28mself\u001b[39m\u001b[38;5;241m.\u001b[39m_backend\u001b[38;5;241m.\u001b[39mretrieval_context():\n\u001b[1;32m-> 1595\u001b[0m         \u001b[38;5;28;01myield from\u001b[39;00m \u001b[38;5;28mself\u001b[39m\u001b[38;5;241m.\u001b[39m_retrieve()\n\u001b[0;32m   1597\u001b[0m \u001b[38;5;28;01mexcept\u001b[39;00m \u001b[38;5;167;01mGeneratorExit\u001b[39;00m:\n\u001b[0;32m   1598\u001b[0m     \u001b[38;5;66;03m# The generator has been garbage collected before being fully\u001b[39;00m\n\u001b[0;32m   1599\u001b[0m     \u001b[38;5;66;03m# consumed. This aborts the remaining tasks if possible and warn\u001b[39;00m\n\u001b[0;32m   1600\u001b[0m     \u001b[38;5;66;03m# the user if necessary.\u001b[39;00m\n\u001b[0;32m   1601\u001b[0m     \u001b[38;5;28mself\u001b[39m\u001b[38;5;241m.\u001b[39m_exception \u001b[38;5;241m=\u001b[39m \u001b[38;5;28;01mTrue\u001b[39;00m\n",
      "File \u001b[1;32mc:\\Users\\Anand\\AppData\\Local\\Programs\\Python\\Python311\\Lib\\site-packages\\joblib\\parallel.py:1707\u001b[0m, in \u001b[0;36mParallel._retrieve\u001b[1;34m(self)\u001b[0m\n\u001b[0;32m   1702\u001b[0m \u001b[38;5;66;03m# If the next job is not ready for retrieval yet, we just wait for\u001b[39;00m\n\u001b[0;32m   1703\u001b[0m \u001b[38;5;66;03m# async callbacks to progress.\u001b[39;00m\n\u001b[0;32m   1704\u001b[0m \u001b[38;5;28;01mif\u001b[39;00m ((\u001b[38;5;28mlen\u001b[39m(\u001b[38;5;28mself\u001b[39m\u001b[38;5;241m.\u001b[39m_jobs) \u001b[38;5;241m==\u001b[39m \u001b[38;5;241m0\u001b[39m) \u001b[38;5;129;01mor\u001b[39;00m\n\u001b[0;32m   1705\u001b[0m     (\u001b[38;5;28mself\u001b[39m\u001b[38;5;241m.\u001b[39m_jobs[\u001b[38;5;241m0\u001b[39m]\u001b[38;5;241m.\u001b[39mget_status(\n\u001b[0;32m   1706\u001b[0m         timeout\u001b[38;5;241m=\u001b[39m\u001b[38;5;28mself\u001b[39m\u001b[38;5;241m.\u001b[39mtimeout) \u001b[38;5;241m==\u001b[39m TASK_PENDING)):\n\u001b[1;32m-> 1707\u001b[0m     time\u001b[38;5;241m.\u001b[39msleep(\u001b[38;5;241m0.01\u001b[39m)\n\u001b[0;32m   1708\u001b[0m     \u001b[38;5;28;01mcontinue\u001b[39;00m\n\u001b[0;32m   1710\u001b[0m \u001b[38;5;66;03m# We need to be careful: the job list can be filling up as\u001b[39;00m\n\u001b[0;32m   1711\u001b[0m \u001b[38;5;66;03m# we empty it and Python list are not thread-safe by\u001b[39;00m\n\u001b[0;32m   1712\u001b[0m \u001b[38;5;66;03m# default hence the use of the lock\u001b[39;00m\n",
      "\u001b[1;31mKeyboardInterrupt\u001b[0m: "
     ]
    }
   ],
   "source": [
    "from sklearn.model_selection import GridSearchCV\n",
    "\n",
    "# Example of hyperparameter tuning with GridSearchCV for RandomForestRegressor\n",
    "param_grid = {\n",
    "    'n_estimators': [100, 200, 300],\n",
    "    'max_depth': [None, 10, 20, 30],\n",
    "    'min_samples_split': [2, 5, 10],\n",
    "    'min_samples_leaf': [1, 2, 4]\n",
    "}\n",
    "\n",
    "grid_search = GridSearchCV(estimator=RandomForestRegressor(), param_grid=param_grid, cv=3, n_jobs=-1, verbose=2)\n",
    "grid_search.fit(X_train, y_train)\n",
    "\n",
    "print(f\"Best parameters: {grid_search.best_params_}\")\n",
    "best_model = grid_search.best_estimator_"
   ]
  },
  {
   "cell_type": "markdown",
   "metadata": {},
   "source": [
    "# Neural Network Based"
   ]
  },
  {
   "cell_type": "code",
   "execution_count": 1,
   "metadata": {},
   "outputs": [
    {
     "name": "stdout",
     "output_type": "stream",
     "text": [
      "WARNING:tensorflow:From c:\\Users\\Anand\\AppData\\Local\\Programs\\Python\\Python311\\Lib\\site-packages\\keras\\src\\losses.py:2976: The name tf.losses.sparse_softmax_cross_entropy is deprecated. Please use tf.compat.v1.losses.sparse_softmax_cross_entropy instead.\n",
      "\n"
     ]
    }
   ],
   "source": [
    "import pandas as pd\n",
    "import numpy as np\n",
    "from sklearn.model_selection import train_test_split\n",
    "from sklearn.preprocessing import StandardScaler, OneHotEncoder\n",
    "from sklearn.compose import ColumnTransformer\n",
    "from sklearn.pipeline import Pipeline\n",
    "from tensorflow.keras.models import Model\n",
    "from tensorflow.keras.layers import Input, Dense, Dropout\n",
    "from tensorflow.keras.optimizers import Adam\n",
    "from tensorflow.keras.callbacks import EarlyStopping\n",
    "from tensorflow.keras.callbacks import ReduceLROnPlateau"
   ]
  },
  {
   "cell_type": "code",
   "execution_count": 3,
   "metadata": {},
   "outputs": [],
   "source": [
    "# Load the dataset\n",
    "file_path = '../mihiresh/commerce_logic.csv'\n",
    "data = pd.read_csv(file_path)\n",
    "\n",
    "# Features and target columns\n",
    "features = ['years_to_retire', 'salary', 'investment_amount', 'current_savings', 'debt',\n",
    "            'other_expenses', 'number_of_dependents', 'current_invested_amount']\n",
    "\n",
    "# Targets for percentage allocations\n",
    "targets_low = ['s1_low', 's2_low', 's3_low', 's4_low', 's5_low', 's6_low']\n",
    "targets_mid = ['s1_mid', 's2_mid', 's3_mid', 's4_mid', 's5_mid', 's6_mid']\n",
    "targets_high = ['s1_high', 's2_high', 's3_high', 's4_high', 's5_high', 's6_high']\n"
   ]
  },
  {
   "cell_type": "code",
   "execution_count": 4,
   "metadata": {},
   "outputs": [],
   "source": [
    "# Preprocessing\n",
    "X = data[features]\n",
    "y_low = data[targets_low]\n",
    "y_mid = data[targets_mid]\n",
    "y_high = data[targets_high]"
   ]
  },
  {
   "cell_type": "code",
   "execution_count": 5,
   "metadata": {},
   "outputs": [
    {
     "data": {
      "text/html": [
       "<div>\n",
       "<style scoped>\n",
       "    .dataframe tbody tr th:only-of-type {\n",
       "        vertical-align: middle;\n",
       "    }\n",
       "\n",
       "    .dataframe tbody tr th {\n",
       "        vertical-align: top;\n",
       "    }\n",
       "\n",
       "    .dataframe thead th {\n",
       "        text-align: right;\n",
       "    }\n",
       "</style>\n",
       "<table border=\"1\" class=\"dataframe\">\n",
       "  <thead>\n",
       "    <tr style=\"text-align: right;\">\n",
       "      <th></th>\n",
       "      <th>s1_low</th>\n",
       "      <th>s2_low</th>\n",
       "      <th>s3_low</th>\n",
       "      <th>s4_low</th>\n",
       "      <th>s5_low</th>\n",
       "      <th>s6_low</th>\n",
       "    </tr>\n",
       "  </thead>\n",
       "  <tbody>\n",
       "    <tr>\n",
       "      <th>0</th>\n",
       "      <td>9</td>\n",
       "      <td>0</td>\n",
       "      <td>22</td>\n",
       "      <td>16</td>\n",
       "      <td>42</td>\n",
       "      <td>11</td>\n",
       "    </tr>\n",
       "    <tr>\n",
       "      <th>1</th>\n",
       "      <td>10</td>\n",
       "      <td>0</td>\n",
       "      <td>28</td>\n",
       "      <td>18</td>\n",
       "      <td>38</td>\n",
       "      <td>6</td>\n",
       "    </tr>\n",
       "    <tr>\n",
       "      <th>2</th>\n",
       "      <td>5</td>\n",
       "      <td>3</td>\n",
       "      <td>28</td>\n",
       "      <td>17</td>\n",
       "      <td>42</td>\n",
       "      <td>5</td>\n",
       "    </tr>\n",
       "    <tr>\n",
       "      <th>3</th>\n",
       "      <td>14</td>\n",
       "      <td>3</td>\n",
       "      <td>21</td>\n",
       "      <td>18</td>\n",
       "      <td>36</td>\n",
       "      <td>8</td>\n",
       "    </tr>\n",
       "    <tr>\n",
       "      <th>4</th>\n",
       "      <td>4</td>\n",
       "      <td>1</td>\n",
       "      <td>26</td>\n",
       "      <td>16</td>\n",
       "      <td>44</td>\n",
       "      <td>9</td>\n",
       "    </tr>\n",
       "    <tr>\n",
       "      <th>...</th>\n",
       "      <td>...</td>\n",
       "      <td>...</td>\n",
       "      <td>...</td>\n",
       "      <td>...</td>\n",
       "      <td>...</td>\n",
       "      <td>...</td>\n",
       "    </tr>\n",
       "    <tr>\n",
       "      <th>49995</th>\n",
       "      <td>16</td>\n",
       "      <td>4</td>\n",
       "      <td>21</td>\n",
       "      <td>15</td>\n",
       "      <td>37</td>\n",
       "      <td>7</td>\n",
       "    </tr>\n",
       "    <tr>\n",
       "      <th>49996</th>\n",
       "      <td>12</td>\n",
       "      <td>3</td>\n",
       "      <td>27</td>\n",
       "      <td>17</td>\n",
       "      <td>35</td>\n",
       "      <td>6</td>\n",
       "    </tr>\n",
       "    <tr>\n",
       "      <th>49997</th>\n",
       "      <td>5</td>\n",
       "      <td>2</td>\n",
       "      <td>26</td>\n",
       "      <td>19</td>\n",
       "      <td>38</td>\n",
       "      <td>10</td>\n",
       "    </tr>\n",
       "    <tr>\n",
       "      <th>49998</th>\n",
       "      <td>12</td>\n",
       "      <td>3</td>\n",
       "      <td>26</td>\n",
       "      <td>16</td>\n",
       "      <td>36</td>\n",
       "      <td>7</td>\n",
       "    </tr>\n",
       "    <tr>\n",
       "      <th>49999</th>\n",
       "      <td>4</td>\n",
       "      <td>3</td>\n",
       "      <td>28</td>\n",
       "      <td>19</td>\n",
       "      <td>39</td>\n",
       "      <td>7</td>\n",
       "    </tr>\n",
       "  </tbody>\n",
       "</table>\n",
       "<p>50000 rows × 6 columns</p>\n",
       "</div>"
      ],
      "text/plain": [
       "       s1_low  s2_low  s3_low  s4_low  s5_low  s6_low\n",
       "0           9       0      22      16      42      11\n",
       "1          10       0      28      18      38       6\n",
       "2           5       3      28      17      42       5\n",
       "3          14       3      21      18      36       8\n",
       "4           4       1      26      16      44       9\n",
       "...       ...     ...     ...     ...     ...     ...\n",
       "49995      16       4      21      15      37       7\n",
       "49996      12       3      27      17      35       6\n",
       "49997       5       2      26      19      38      10\n",
       "49998      12       3      26      16      36       7\n",
       "49999       4       3      28      19      39       7\n",
       "\n",
       "[50000 rows x 6 columns]"
      ]
     },
     "execution_count": 5,
     "metadata": {},
     "output_type": "execute_result"
    }
   ],
   "source": [
    "y_low"
   ]
  },
  {
   "cell_type": "code",
   "execution_count": 10,
   "metadata": {},
   "outputs": [],
   "source": [
    "# Normalize target values to sum to 1\n",
    "y_low = y_low.div(y_low.sum(axis=1), axis=0)\n",
    "y_mid = y_mid.div(y_mid.sum(axis=1), axis=0)\n",
    "y_high = y_high.div(y_high.sum(axis=1), axis=0)\n"
   ]
  },
  {
   "cell_type": "code",
   "execution_count": 12,
   "metadata": {},
   "outputs": [],
   "source": [
    "numerical_features = [col for col in features]\n",
    "preprocessor = ColumnTransformer(\n",
    "    transformers=[\n",
    "        ('num', StandardScaler(), numerical_features),\n",
    "    ])\n",
    "\n",
    "# Transform the data\n",
    "X_processed = preprocessor.fit_transform(X)\n"
   ]
  },
  {
   "cell_type": "code",
   "execution_count": null,
   "metadata": {},
   "outputs": [],
   "source": []
  },
  {
   "cell_type": "code",
   "execution_count": 13,
   "metadata": {},
   "outputs": [
    {
     "name": "stdout",
     "output_type": "stream",
     "text": [
      "WARNING:tensorflow:From c:\\Users\\Anand\\AppData\\Local\\Programs\\Python\\Python311\\Lib\\site-packages\\keras\\src\\backend.py:1398: The name tf.executing_eagerly_outside_functions is deprecated. Please use tf.compat.v1.executing_eagerly_outside_functions instead.\n",
      "\n"
     ]
    }
   ],
   "source": [
    "# Split the data\n",
    "X_train, X_test, y_train_low, y_test_low = train_test_split(X_processed, y_low, test_size=0.2, random_state=42)\n",
    "_, _, y_train_mid, y_test_mid = train_test_split(X_processed, y_mid, test_size=0.2, random_state=42)\n",
    "_, _, y_train_high, y_test_high = train_test_split(X_processed, y_high, test_size=0.2, random_state=42)\n",
    "\n",
    "# Define the model\n",
    "input_layer = Input(shape=(X_train.shape[1],))\n",
    "x = Dense(64, activation='relu')(input_layer)\n",
    "x = Dropout(0.5)(x)\n",
    "x = Dense(32, activation='relu')(x)\n"
   ]
  },
  {
   "cell_type": "code",
   "execution_count": 14,
   "metadata": {},
   "outputs": [
    {
     "data": {
      "text/plain": [
       "<KerasTensor: shape=(None, 8) dtype=float32 (created by layer 'input_1')>"
      ]
     },
     "execution_count": 14,
     "metadata": {},
     "output_type": "execute_result"
    }
   ],
   "source": [
    "input_layer"
   ]
  },
  {
   "cell_type": "code",
   "execution_count": 16,
   "metadata": {},
   "outputs": [
    {
     "data": {
      "text/plain": [
       "<KerasTensor: shape=(None, 32) dtype=float32 (created by layer 'dense_1')>"
      ]
     },
     "execution_count": 16,
     "metadata": {},
     "output_type": "execute_result"
    }
   ],
   "source": [
    "x"
   ]
  },
  {
   "cell_type": "code",
   "execution_count": 17,
   "metadata": {},
   "outputs": [],
   "source": [
    "# Output layers for low, mid, and high risk levels\n",
    "low_output = Dense(6, activation='sigmoid', name='low_output')(x)\n",
    "mid_output = Dense(6, activation='sigmoid', name='mid_output')(x)\n",
    "high_output = Dense(6, activation='sigmoid', name='high_output')(x)\n",
    "\n",
    "# Define the model\n",
    "model = Model(inputs=input_layer, outputs=[low_output, mid_output, high_output])\n"
   ]
  },
  {
   "cell_type": "code",
   "execution_count": 18,
   "metadata": {},
   "outputs": [
    {
     "name": "stdout",
     "output_type": "stream",
     "text": [
      "Epoch 1/150\n",
      "WARNING:tensorflow:From c:\\Users\\Anand\\AppData\\Local\\Programs\\Python\\Python311\\Lib\\site-packages\\keras\\src\\engine\\base_layer_utils.py:384: The name tf.executing_eagerly_outside_functions is deprecated. Please use tf.compat.v1.executing_eagerly_outside_functions instead.\n",
      "\n",
      "WARNING:tensorflow:From c:\\Users\\Anand\\AppData\\Local\\Programs\\Python\\Python311\\Lib\\site-packages\\keras\\src\\utils\\tf_utils.py:492: The name tf.ragged.RaggedTensorValue is deprecated. Please use tf.compat.v1.ragged.RaggedTensorValue instead.\n",
      "\n",
      "5000/5000 [==============================] - 12s 2ms/step - loss: 0.0039 - low_output_loss: 0.0011 - mid_output_loss: 0.0012 - high_output_loss: 0.0016 - low_output_accuracy: 0.9984 - mid_output_accuracy: 0.8458 - high_output_accuracy: 0.5108 - val_loss: 0.0032 - val_low_output_loss: 8.9197e-04 - val_mid_output_loss: 9.6273e-04 - val_high_output_loss: 0.0013 - val_low_output_accuracy: 1.0000 - val_mid_output_accuracy: 0.8489 - val_high_output_accuracy: 0.5481 - lr: 0.0100\n",
      "Epoch 2/150\n",
      "5000/5000 [==============================] - 9s 2ms/step - loss: 0.0032 - low_output_loss: 9.0148e-04 - mid_output_loss: 9.5915e-04 - high_output_loss: 0.0013 - low_output_accuracy: 1.0000 - mid_output_accuracy: 0.8496 - high_output_accuracy: 0.5164 - val_loss: 0.0032 - val_low_output_loss: 8.9674e-04 - val_mid_output_loss: 9.4362e-04 - val_high_output_loss: 0.0013 - val_low_output_accuracy: 1.0000 - val_mid_output_accuracy: 0.8489 - val_high_output_accuracy: 0.5481 - lr: 0.0100\n",
      "Epoch 3/150\n",
      "5000/5000 [==============================] - 11s 2ms/step - loss: 0.0032 - low_output_loss: 8.9751e-04 - mid_output_loss: 9.5529e-04 - high_output_loss: 0.0013 - low_output_accuracy: 1.0000 - mid_output_accuracy: 0.8496 - high_output_accuracy: 0.5230 - val_loss: 0.0032 - val_low_output_loss: 8.9536e-04 - val_mid_output_loss: 9.5304e-04 - val_high_output_loss: 0.0013 - val_low_output_accuracy: 1.0000 - val_mid_output_accuracy: 0.8489 - val_high_output_accuracy: 0.5481 - lr: 0.0100\n",
      "Epoch 4/150\n",
      "5000/5000 [==============================] - 11s 2ms/step - loss: 0.0032 - low_output_loss: 8.9602e-04 - mid_output_loss: 9.5378e-04 - high_output_loss: 0.0013 - low_output_accuracy: 1.0000 - mid_output_accuracy: 0.8496 - high_output_accuracy: 0.5240 - val_loss: 0.0032 - val_low_output_loss: 8.8361e-04 - val_mid_output_loss: 9.4261e-04 - val_high_output_loss: 0.0013 - val_low_output_accuracy: 1.0000 - val_mid_output_accuracy: 0.8489 - val_high_output_accuracy: 0.5481 - lr: 0.0100\n",
      "Epoch 5/150\n",
      "5000/5000 [==============================] - 10s 2ms/step - loss: 0.0032 - low_output_loss: 8.9514e-04 - mid_output_loss: 9.5242e-04 - high_output_loss: 0.0013 - low_output_accuracy: 1.0000 - mid_output_accuracy: 0.8496 - high_output_accuracy: 0.5231 - val_loss: 0.0032 - val_low_output_loss: 8.8842e-04 - val_mid_output_loss: 9.5050e-04 - val_high_output_loss: 0.0013 - val_low_output_accuracy: 1.0000 - val_mid_output_accuracy: 0.8489 - val_high_output_accuracy: 0.5481 - lr: 0.0100\n",
      "Epoch 6/150\n",
      "5000/5000 [==============================] - 11s 2ms/step - loss: 0.0031 - low_output_loss: 8.9408e-04 - mid_output_loss: 9.5216e-04 - high_output_loss: 0.0013 - low_output_accuracy: 1.0000 - mid_output_accuracy: 0.8496 - high_output_accuracy: 0.5253 - val_loss: 0.0032 - val_low_output_loss: 8.8212e-04 - val_mid_output_loss: 9.5262e-04 - val_high_output_loss: 0.0013 - val_low_output_accuracy: 1.0000 - val_mid_output_accuracy: 0.8489 - val_high_output_accuracy: 0.5481 - lr: 0.0100\n",
      "Epoch 7/150\n",
      "5000/5000 [==============================] - 11s 2ms/step - loss: 0.0031 - low_output_loss: 8.8879e-04 - mid_output_loss: 9.4568e-04 - high_output_loss: 0.0013 - low_output_accuracy: 1.0000 - mid_output_accuracy: 0.8496 - high_output_accuracy: 0.5399 - val_loss: 0.0031 - val_low_output_loss: 8.8082e-04 - val_mid_output_loss: 9.3849e-04 - val_high_output_loss: 0.0013 - val_low_output_accuracy: 1.0000 - val_mid_output_accuracy: 0.8489 - val_high_output_accuracy: 0.5481 - lr: 0.0020\n",
      "Epoch 8/150\n",
      "5000/5000 [==============================] - 11s 2ms/step - loss: 0.0031 - low_output_loss: 8.8878e-04 - mid_output_loss: 9.4578e-04 - high_output_loss: 0.0013 - low_output_accuracy: 1.0000 - mid_output_accuracy: 0.8496 - high_output_accuracy: 0.5416 - val_loss: 0.0031 - val_low_output_loss: 8.8118e-04 - val_mid_output_loss: 9.3838e-04 - val_high_output_loss: 0.0013 - val_low_output_accuracy: 1.0000 - val_mid_output_accuracy: 0.8489 - val_high_output_accuracy: 0.5481 - lr: 0.0020\n",
      "Epoch 9/150\n",
      "5000/5000 [==============================] - 11s 2ms/step - loss: 0.0031 - low_output_loss: 8.8879e-04 - mid_output_loss: 9.4561e-04 - high_output_loss: 0.0013 - low_output_accuracy: 1.0000 - mid_output_accuracy: 0.8496 - high_output_accuracy: 0.5415 - val_loss: 0.0031 - val_low_output_loss: 8.8088e-04 - val_mid_output_loss: 9.3808e-04 - val_high_output_loss: 0.0013 - val_low_output_accuracy: 1.0000 - val_mid_output_accuracy: 0.8489 - val_high_output_accuracy: 0.5481 - lr: 0.0020\n",
      "Epoch 10/150\n",
      "5000/5000 [==============================] - 12s 2ms/step - loss: 0.0031 - low_output_loss: 8.8900e-04 - mid_output_loss: 9.4577e-04 - high_output_loss: 0.0013 - low_output_accuracy: 1.0000 - mid_output_accuracy: 0.8496 - high_output_accuracy: 0.5410 - val_loss: 0.0031 - val_low_output_loss: 8.8020e-04 - val_mid_output_loss: 9.3853e-04 - val_high_output_loss: 0.0013 - val_low_output_accuracy: 1.0000 - val_mid_output_accuracy: 0.8489 - val_high_output_accuracy: 0.5481 - lr: 0.0020\n",
      "Epoch 11/150\n",
      "5000/5000 [==============================] - 10s 2ms/step - loss: 0.0031 - low_output_loss: 8.8865e-04 - mid_output_loss: 9.4573e-04 - high_output_loss: 0.0013 - low_output_accuracy: 1.0000 - mid_output_accuracy: 0.8496 - high_output_accuracy: 0.5394 - val_loss: 0.0031 - val_low_output_loss: 8.7973e-04 - val_mid_output_loss: 9.3856e-04 - val_high_output_loss: 0.0013 - val_low_output_accuracy: 1.0000 - val_mid_output_accuracy: 0.8489 - val_high_output_accuracy: 0.5481 - lr: 0.0020\n",
      "Epoch 12/150\n",
      "5000/5000 [==============================] - 11s 2ms/step - loss: 0.0031 - low_output_loss: 8.8808e-04 - mid_output_loss: 9.4503e-04 - high_output_loss: 0.0013 - low_output_accuracy: 1.0000 - mid_output_accuracy: 0.8496 - high_output_accuracy: 0.5455 - val_loss: 0.0031 - val_low_output_loss: 8.7975e-04 - val_mid_output_loss: 9.3744e-04 - val_high_output_loss: 0.0013 - val_low_output_accuracy: 1.0000 - val_mid_output_accuracy: 0.8489 - val_high_output_accuracy: 0.5481 - lr: 0.0010\n",
      "Epoch 13/150\n",
      "5000/5000 [==============================] - 10s 2ms/step - loss: 0.0031 - low_output_loss: 8.8820e-04 - mid_output_loss: 9.4501e-04 - high_output_loss: 0.0013 - low_output_accuracy: 1.0000 - mid_output_accuracy: 0.8496 - high_output_accuracy: 0.5463 - val_loss: 0.0031 - val_low_output_loss: 8.7989e-04 - val_mid_output_loss: 9.3702e-04 - val_high_output_loss: 0.0013 - val_low_output_accuracy: 1.0000 - val_mid_output_accuracy: 0.8489 - val_high_output_accuracy: 0.5481 - lr: 0.0010\n",
      "Epoch 14/150\n",
      "5000/5000 [==============================] - 11s 2ms/step - loss: 0.0031 - low_output_loss: 8.8808e-04 - mid_output_loss: 9.4504e-04 - high_output_loss: 0.0013 - low_output_accuracy: 1.0000 - mid_output_accuracy: 0.8496 - high_output_accuracy: 0.5460 - val_loss: 0.0031 - val_low_output_loss: 8.8021e-04 - val_mid_output_loss: 9.3792e-04 - val_high_output_loss: 0.0013 - val_low_output_accuracy: 1.0000 - val_mid_output_accuracy: 0.8489 - val_high_output_accuracy: 0.5481 - lr: 0.0010\n",
      "Epoch 15/150\n",
      "5000/5000 [==============================] - 10s 2ms/step - loss: 0.0031 - low_output_loss: 8.8817e-04 - mid_output_loss: 9.4488e-04 - high_output_loss: 0.0013 - low_output_accuracy: 1.0000 - mid_output_accuracy: 0.8496 - high_output_accuracy: 0.5450 - val_loss: 0.0031 - val_low_output_loss: 8.8004e-04 - val_mid_output_loss: 9.3874e-04 - val_high_output_loss: 0.0013 - val_low_output_accuracy: 1.0000 - val_mid_output_accuracy: 0.8489 - val_high_output_accuracy: 0.5481 - lr: 0.0010\n",
      "Epoch 16/150\n",
      "5000/5000 [==============================] - 10s 2ms/step - loss: 0.0031 - low_output_loss: 8.8820e-04 - mid_output_loss: 9.4490e-04 - high_output_loss: 0.0013 - low_output_accuracy: 1.0000 - mid_output_accuracy: 0.8496 - high_output_accuracy: 0.5452 - val_loss: 0.0031 - val_low_output_loss: 8.8055e-04 - val_mid_output_loss: 9.3724e-04 - val_high_output_loss: 0.0013 - val_low_output_accuracy: 1.0000 - val_mid_output_accuracy: 0.8489 - val_high_output_accuracy: 0.5481 - lr: 0.0010\n",
      "Epoch 17/150\n",
      "5000/5000 [==============================] - 10s 2ms/step - loss: 0.0031 - low_output_loss: 8.8816e-04 - mid_output_loss: 9.4485e-04 - high_output_loss: 0.0013 - low_output_accuracy: 1.0000 - mid_output_accuracy: 0.8496 - high_output_accuracy: 0.5462 - val_loss: 0.0031 - val_low_output_loss: 8.8040e-04 - val_mid_output_loss: 9.3764e-04 - val_high_output_loss: 0.0013 - val_low_output_accuracy: 1.0000 - val_mid_output_accuracy: 0.8489 - val_high_output_accuracy: 0.5481 - lr: 0.0010\n",
      "Epoch 18/150\n",
      "5000/5000 [==============================] - 11s 2ms/step - loss: 0.0031 - low_output_loss: 8.8807e-04 - mid_output_loss: 9.4500e-04 - high_output_loss: 0.0013 - low_output_accuracy: 1.0000 - mid_output_accuracy: 0.8496 - high_output_accuracy: 0.5448 - val_loss: 0.0031 - val_low_output_loss: 8.8014e-04 - val_mid_output_loss: 9.3782e-04 - val_high_output_loss: 0.0013 - val_low_output_accuracy: 1.0000 - val_mid_output_accuracy: 0.8489 - val_high_output_accuracy: 0.5481 - lr: 0.0010\n",
      "Epoch 19/150\n",
      "5000/5000 [==============================] - 10s 2ms/step - loss: 0.0031 - low_output_loss: 8.8811e-04 - mid_output_loss: 9.4497e-04 - high_output_loss: 0.0013 - low_output_accuracy: 1.0000 - mid_output_accuracy: 0.8496 - high_output_accuracy: 0.5443 - val_loss: 0.0031 - val_low_output_loss: 8.7975e-04 - val_mid_output_loss: 9.3855e-04 - val_high_output_loss: 0.0013 - val_low_output_accuracy: 1.0000 - val_mid_output_accuracy: 0.8489 - val_high_output_accuracy: 0.5481 - lr: 0.0010\n",
      "Epoch 20/150\n",
      "5000/5000 [==============================] - 10s 2ms/step - loss: 0.0031 - low_output_loss: 8.8814e-04 - mid_output_loss: 9.4505e-04 - high_output_loss: 0.0013 - low_output_accuracy: 1.0000 - mid_output_accuracy: 0.8496 - high_output_accuracy: 0.5459 - val_loss: 0.0031 - val_low_output_loss: 8.8040e-04 - val_mid_output_loss: 9.3728e-04 - val_high_output_loss: 0.0013 - val_low_output_accuracy: 1.0000 - val_mid_output_accuracy: 0.8489 - val_high_output_accuracy: 0.5481 - lr: 0.0010\n",
      "Epoch 21/150\n",
      "5000/5000 [==============================] - 10s 2ms/step - loss: 0.0031 - low_output_loss: 8.8814e-04 - mid_output_loss: 9.4491e-04 - high_output_loss: 0.0013 - low_output_accuracy: 1.0000 - mid_output_accuracy: 0.8496 - high_output_accuracy: 0.5463 - val_loss: 0.0031 - val_low_output_loss: 8.7980e-04 - val_mid_output_loss: 9.3799e-04 - val_high_output_loss: 0.0013 - val_low_output_accuracy: 1.0000 - val_mid_output_accuracy: 0.8489 - val_high_output_accuracy: 0.5481 - lr: 0.0010\n",
      "Epoch 22/150\n",
      "5000/5000 [==============================] - 10s 2ms/step - loss: 0.0031 - low_output_loss: 8.8803e-04 - mid_output_loss: 9.4508e-04 - high_output_loss: 0.0013 - low_output_accuracy: 1.0000 - mid_output_accuracy: 0.8496 - high_output_accuracy: 0.5458 - val_loss: 0.0031 - val_low_output_loss: 8.8001e-04 - val_mid_output_loss: 9.3795e-04 - val_high_output_loss: 0.0013 - val_low_output_accuracy: 1.0000 - val_mid_output_accuracy: 0.8489 - val_high_output_accuracy: 0.5481 - lr: 0.0010\n",
      "Epoch 23/150\n",
      "5000/5000 [==============================] - 10s 2ms/step - loss: 0.0031 - low_output_loss: 8.8821e-04 - mid_output_loss: 9.4484e-04 - high_output_loss: 0.0013 - low_output_accuracy: 1.0000 - mid_output_accuracy: 0.8496 - high_output_accuracy: 0.5459 - val_loss: 0.0031 - val_low_output_loss: 8.7958e-04 - val_mid_output_loss: 9.3678e-04 - val_high_output_loss: 0.0013 - val_low_output_accuracy: 1.0000 - val_mid_output_accuracy: 0.8489 - val_high_output_accuracy: 0.5481 - lr: 0.0010\n",
      "Epoch 24/150\n",
      "5000/5000 [==============================] - 10s 2ms/step - loss: 0.0031 - low_output_loss: 8.8817e-04 - mid_output_loss: 9.4499e-04 - high_output_loss: 0.0013 - low_output_accuracy: 1.0000 - mid_output_accuracy: 0.8496 - high_output_accuracy: 0.5463 - val_loss: 0.0031 - val_low_output_loss: 8.8038e-04 - val_mid_output_loss: 9.3686e-04 - val_high_output_loss: 0.0013 - val_low_output_accuracy: 1.0000 - val_mid_output_accuracy: 0.8489 - val_high_output_accuracy: 0.5481 - lr: 0.0010\n",
      "Epoch 25/150\n",
      "5000/5000 [==============================] - 10s 2ms/step - loss: 0.0031 - low_output_loss: 8.8825e-04 - mid_output_loss: 9.4500e-04 - high_output_loss: 0.0013 - low_output_accuracy: 1.0000 - mid_output_accuracy: 0.8496 - high_output_accuracy: 0.5454 - val_loss: 0.0031 - val_low_output_loss: 8.8035e-04 - val_mid_output_loss: 9.3699e-04 - val_high_output_loss: 0.0013 - val_low_output_accuracy: 1.0000 - val_mid_output_accuracy: 0.8489 - val_high_output_accuracy: 0.5481 - lr: 0.0010\n",
      "Epoch 26/150\n",
      "5000/5000 [==============================] - 10s 2ms/step - loss: 0.0031 - low_output_loss: 8.8815e-04 - mid_output_loss: 9.4492e-04 - high_output_loss: 0.0013 - low_output_accuracy: 1.0000 - mid_output_accuracy: 0.8496 - high_output_accuracy: 0.5459 - val_loss: 0.0031 - val_low_output_loss: 8.8049e-04 - val_mid_output_loss: 9.3734e-04 - val_high_output_loss: 0.0013 - val_low_output_accuracy: 1.0000 - val_mid_output_accuracy: 0.8489 - val_high_output_accuracy: 0.5481 - lr: 0.0010\n",
      "Epoch 27/150\n",
      "5000/5000 [==============================] - 10s 2ms/step - loss: 0.0031 - low_output_loss: 8.8809e-04 - mid_output_loss: 9.4495e-04 - high_output_loss: 0.0013 - low_output_accuracy: 1.0000 - mid_output_accuracy: 0.8496 - high_output_accuracy: 0.5457 - val_loss: 0.0031 - val_low_output_loss: 8.7996e-04 - val_mid_output_loss: 9.3678e-04 - val_high_output_loss: 0.0013 - val_low_output_accuracy: 1.0000 - val_mid_output_accuracy: 0.8489 - val_high_output_accuracy: 0.5481 - lr: 0.0010\n",
      "Epoch 28/150\n",
      "5000/5000 [==============================] - 10s 2ms/step - loss: 0.0031 - low_output_loss: 8.8803e-04 - mid_output_loss: 9.4503e-04 - high_output_loss: 0.0013 - low_output_accuracy: 1.0000 - mid_output_accuracy: 0.8496 - high_output_accuracy: 0.5463 - val_loss: 0.0031 - val_low_output_loss: 8.8012e-04 - val_mid_output_loss: 9.3680e-04 - val_high_output_loss: 0.0013 - val_low_output_accuracy: 1.0000 - val_mid_output_accuracy: 0.8489 - val_high_output_accuracy: 0.5481 - lr: 0.0010\n",
      "Epoch 29/150\n",
      "5000/5000 [==============================] - 10s 2ms/step - loss: 0.0031 - low_output_loss: 8.8812e-04 - mid_output_loss: 9.4497e-04 - high_output_loss: 0.0013 - low_output_accuracy: 1.0000 - mid_output_accuracy: 0.8496 - high_output_accuracy: 0.5461 - val_loss: 0.0031 - val_low_output_loss: 8.8165e-04 - val_mid_output_loss: 9.3725e-04 - val_high_output_loss: 0.0013 - val_low_output_accuracy: 1.0000 - val_mid_output_accuracy: 0.8489 - val_high_output_accuracy: 0.5481 - lr: 0.0010\n",
      "Epoch 30/150\n",
      "5000/5000 [==============================] - 9s 2ms/step - loss: 0.0031 - low_output_loss: 8.8821e-04 - mid_output_loss: 9.4497e-04 - high_output_loss: 0.0013 - low_output_accuracy: 1.0000 - mid_output_accuracy: 0.8496 - high_output_accuracy: 0.5435 - val_loss: 0.0031 - val_low_output_loss: 8.7960e-04 - val_mid_output_loss: 9.3846e-04 - val_high_output_loss: 0.0013 - val_low_output_accuracy: 1.0000 - val_mid_output_accuracy: 0.8489 - val_high_output_accuracy: 0.5481 - lr: 0.0010\n",
      "Epoch 31/150\n",
      "5000/5000 [==============================] - 9s 2ms/step - loss: 0.0031 - low_output_loss: 8.8819e-04 - mid_output_loss: 9.4501e-04 - high_output_loss: 0.0013 - low_output_accuracy: 1.0000 - mid_output_accuracy: 0.8496 - high_output_accuracy: 0.5448 - val_loss: 0.0031 - val_low_output_loss: 8.7983e-04 - val_mid_output_loss: 9.3690e-04 - val_high_output_loss: 0.0013 - val_low_output_accuracy: 1.0000 - val_mid_output_accuracy: 0.8489 - val_high_output_accuracy: 0.5481 - lr: 0.0010\n",
      "Epoch 32/150\n",
      "5000/5000 [==============================] - 9s 2ms/step - loss: 0.0031 - low_output_loss: 8.8804e-04 - mid_output_loss: 9.4502e-04 - high_output_loss: 0.0013 - low_output_accuracy: 1.0000 - mid_output_accuracy: 0.8496 - high_output_accuracy: 0.5441 - val_loss: 0.0031 - val_low_output_loss: 8.8029e-04 - val_mid_output_loss: 9.3813e-04 - val_high_output_loss: 0.0013 - val_low_output_accuracy: 1.0000 - val_mid_output_accuracy: 0.8489 - val_high_output_accuracy: 0.5481 - lr: 0.0010\n",
      "Epoch 33/150\n",
      "5000/5000 [==============================] - 8s 2ms/step - loss: 0.0031 - low_output_loss: 8.8815e-04 - mid_output_loss: 9.4490e-04 - high_output_loss: 0.0013 - low_output_accuracy: 1.0000 - mid_output_accuracy: 0.8496 - high_output_accuracy: 0.5459 - val_loss: 0.0031 - val_low_output_loss: 8.8030e-04 - val_mid_output_loss: 9.3871e-04 - val_high_output_loss: 0.0013 - val_low_output_accuracy: 1.0000 - val_mid_output_accuracy: 0.8489 - val_high_output_accuracy: 0.5481 - lr: 0.0010\n",
      "313/313 [==============================] - 1s 1ms/step - loss: 0.0031 - low_output_loss: 8.7958e-04 - mid_output_loss: 9.3678e-04 - high_output_loss: 0.0013 - low_output_accuracy: 1.0000 - mid_output_accuracy: 0.8489 - high_output_accuracy: 0.5481\n",
      "Test Low Accuracy: 1.0, Test Mid Accuracy: 0.8489000201225281, Test High Accuracy: 0.5480999946594238\n"
     ]
    }
   ],
   "source": [
    "# Compile the model\n",
    "model.compile(optimizer=Adam(learning_rate=0.01),\n",
    "              loss='mean_squared_error',\n",
    "              metrics=['accuracy'])\n",
    "\n",
    "early_stopping = EarlyStopping(monitor='val_loss', patience=10, restore_best_weights=True)\n",
    "reduce_lr = ReduceLROnPlateau(monitor='val_loss', factor=0.2, patience=5, min_lr=0.001)\n",
    "# Train the model with early stopping\n",
    "history = model.fit(X_train, [y_train_low, y_train_mid, y_train_high],\n",
    "                    epochs=150, batch_size=8, validation_data=(X_test, [y_test_low, y_test_mid, y_test_high]),\n",
    "                    callbacks=[early_stopping, reduce_lr])\n",
    "# Evaluate the model\n",
    "loss, low_loss, mid_loss, high_loss, low_acc, mid_acc, high_acc = model.evaluate(X_test, [y_test_low, y_test_mid, y_test_high])\n",
    "print(f\"Test Low Accuracy: {low_acc}, Test Mid Accuracy: {mid_acc}, Test High Accuracy: {high_acc}\")\n"
   ]
  },
  {
   "cell_type": "code",
   "execution_count": 19,
   "metadata": {},
   "outputs": [
    {
     "name": "stdout",
     "output_type": "stream",
     "text": [
      "313/313 [==============================] - 0s 1ms/step\n",
      "1/1 [==============================] - 0s 24ms/step\n",
      "Low Risk:\n",
      "s1: 8.49%, s2: 2.55%, s3: 25.28%, s4: 17.86%, s5: 39.88%, s6: 10.34%\n",
      "Medium Risk:\n",
      "s1: 6.35%, s2: 7.86%, s3: 15.35%, s4: 25.08%, s5: 20.33%, s6: 29.84%\n",
      "High Risk:\n",
      "s1: 30.61%, s2: 30.05%, s3: 7.91%, s4: 7.94%, s5: 7.83%, s6: 20.09%\n"
     ]
    }
   ],
   "source": [
    "# Predict using the model\n",
    "low_pred, mid_pred, high_pred = model.predict(X_test)\n",
    "\n",
    "# Function to display results\n",
    "def display_results(employee_data, low_pred, mid_pred, high_pred):\n",
    "    print(\"Low Risk:\")\n",
    "    print(f\"s1: {low_pred[0]*100:.2f}%, s2: {low_pred[1]*100:.2f}%, s3: {low_pred[2]*100:.2f}%, s4: {low_pred[3]*100:.2f}%, s5: {low_pred[4]*100:.2f}%, s6: {low_pred[5]*100:.2f}%\")\n",
    "    print(\"Medium Risk:\")\n",
    "    print(f\"s1: {mid_pred[0]*100:.2f}%, s2: {mid_pred[1]*100:.2f}%, s3: {mid_pred[2]*100:.2f}%, s4: {mid_pred[3]*100:.2f}%, s5: {mid_pred[4]*100:.2f}%, s6: {mid_pred[5]*100:.2f}%\")\n",
    "    print(\"High Risk:\")\n",
    "    print(f\"s1: {high_pred[0]*100:.2f}%, s2: {high_pred[1]*100:.2f}%, s3: {high_pred[2]*100:.2f}%, s4: {high_pred[3]*100:.2f}%, s5: {high_pred[4]*100:.2f}%, s6: {high_pred[5]*100:.2f}%\")\n",
    "\n",
    "# Example new employee data\n",
    "new_employee = pd.DataFrame([[30, 45000, 12000, 35000, 2000, 3000, 1, 1]], columns=features)\n",
    "new_employee_processed = preprocessor.transform(new_employee)\n",
    "predicted_low, predicted_mid, predicted_high = model.predict(new_employee_processed)\n",
    "\n",
    "display_results(new_employee, predicted_low[0], predicted_mid[0], predicted_high[0])"
   ]
  },
  {
   "cell_type": "code",
   "execution_count": 20,
   "metadata": {},
   "outputs": [
    {
     "name": "stderr",
     "output_type": "stream",
     "text": [
      "c:\\Users\\Anand\\AppData\\Local\\Programs\\Python\\Python311\\Lib\\site-packages\\keras\\src\\engine\\training.py:3103: UserWarning: You are saving your model as an HDF5 file via `model.save()`. This file format is considered legacy. We recommend using instead the native Keras format, e.g. `model.save('my_model.keras')`.\n",
      "  saving_api.save_model(\n"
     ]
    },
    {
     "data": {
      "text/plain": [
       "['preprocessor_pipeline.pkl']"
      ]
     },
     "execution_count": 20,
     "metadata": {},
     "output_type": "execute_result"
    }
   ],
   "source": [
    "model.save(\"investment_recommendation.h5\")\n",
    "import joblib\n",
    "joblib.dump(preprocessor,'preprocessor_pipeline.pkl')"
   ]
  },
  {
   "cell_type": "code",
   "execution_count": null,
   "metadata": {},
   "outputs": [],
   "source": []
  }
 ],
 "metadata": {
  "kernelspec": {
   "display_name": "Python 3",
   "language": "python",
   "name": "python3"
  },
  "language_info": {
   "codemirror_mode": {
    "name": "ipython",
    "version": 3
   },
   "file_extension": ".py",
   "mimetype": "text/x-python",
   "name": "python",
   "nbconvert_exporter": "python",
   "pygments_lexer": "ipython3",
   "version": "3.11.7"
  }
 },
 "nbformat": 4,
 "nbformat_minor": 2
}

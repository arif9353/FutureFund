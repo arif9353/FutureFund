{
 "cells": [
  {
   "cell_type": "code",
   "execution_count": 51,
   "metadata": {},
   "outputs": [
    {
     "name": "stdout",
     "output_type": "stream",
     "text": [
      "Mean Squared Error for goal_low (XGBoost with Log Transform): 0.010945650060628283\n",
      "Mean Squared Error for goal_mid (XGBoost with Log Transform): 0.009124486520039542\n",
      "Mean Squared Error for goal_high (XGBoost with Log Transform): 0.008180176245165352\n"
     ]
    }
   ],
   "source": [
    "import pandas as pd\n",
    "import numpy as np\n",
    "from sklearn.model_selection import train_test_split, GridSearchCV\n",
    "from sklearn.preprocessing import StandardScaler\n",
    "from sklearn.metrics import mean_squared_error\n",
    "import xgboost as xgb\n",
    "import joblib\n",
    "\n",
    "# Load the data\n",
    "file_path = './mihiresh/goal_amount.csv'\n",
    "data = pd.read_csv(file_path)\n",
    "\n",
    "# Filter out data with zero values for critical features\n",
    "data = data[(data['investment_amount'] != 0) & \n",
    "            (data['years_to_retire'] != 0) & \n",
    "            (data['salary'] != 0)]\n",
    "\n",
    "# Select relevant features and target variables\n",
    "features = ['years_to_retire', 'investment_amount']\n",
    "target_low = 'goal_low'\n",
    "target_mid = 'goal_mid'\n",
    "target_high = 'goal_high'\n",
    "\n",
    "# Apply log transformation to the target variables\n",
    "data[target_low] = np.log1p(data[target_low])\n",
    "data[target_mid] = np.log1p(data[target_mid])\n",
    "data[target_high] = np.log1p(data[target_high])\n",
    "\n",
    "# Prepare the data\n",
    "X = data[features]\n",
    "y_low = data[target_low]\n",
    "y_mid = data[target_mid]\n",
    "y_high = data[target_high]\n",
    "\n",
    "# Normalize the features\n",
    "scaler = StandardScaler()\n",
    "X_scaled = scaler.fit_transform(X)\n",
    "\n",
    "# Save the scaler\n",
    "joblib.dump(scaler, 'scaler.pkl')\n",
    "\n",
    "# Split the data into training and testing sets\n",
    "X_train, X_test, y_low_train, y_low_test = train_test_split(X_scaled, y_low, test_size=0.2, random_state=42)\n",
    "_, _, y_mid_train, y_mid_test = train_test_split(X_scaled, y_mid, test_size=0.2, random_state=42)\n",
    "_, _, y_high_train, y_high_test = train_test_split(X_scaled, y_high, test_size=0.2, random_state=42)\n",
    "\n",
    "# Define a function to build and train XGBoost models with hyperparameter tuning\n",
    "def train_xgboost(X_train, y_train, X_test, y_test):\n",
    "    model = xgb.XGBRegressor(objective='reg:squarederror')\n",
    "    \n",
    "    # Hyperparameter grid\n",
    "    param_grid = {\n",
    "        'n_estimators': [100, 200],\n",
    "        'learning_rate': [0.01, 0.1],\n",
    "        'max_depth': [3, 5, 7],\n",
    "        'min_child_weight': [1, 3, 5]\n",
    "    }\n",
    "    \n",
    "    grid_search = GridSearchCV(estimator=model, param_grid=param_grid, cv=3, scoring='neg_mean_squared_error', n_jobs=-1)\n",
    "    grid_search.fit(X_train, y_train)\n",
    "    \n",
    "    best_model = grid_search.best_estimator_\n",
    "    y_pred = best_model.predict(X_test)\n",
    "    mse = mean_squared_error(y_test, y_pred)\n",
    "    \n",
    "    return best_model, y_pred, mse\n",
    "\n",
    "# Train the model for goal_low\n",
    "model_low, y_low_pred, mse_low = train_xgboost(X_train, y_low_train, X_test, y_low_test)\n",
    "\n",
    "# Save the model for goal_low\n",
    "# joblib.dump(model_low, 'model_low.pkl')\n",
    "\n",
    "# Train the model for goal_mid\n",
    "model_mid, y_mid_pred, mse_mid = train_xgboost(X_train, y_mid_train, X_test, y_mid_test)\n",
    "\n",
    "# Save the model for goal_mid\n",
    "joblib.dump(model_mid, 'model_mid.pkl')\n",
    "\n",
    "# Train the model for goal_high\n",
    "model_high, y_high_pred, mse_high = train_xgboost(X_train, y_high_train, X_test, y_high_test)\n",
    "\n",
    "# Save the model for goal_high\n",
    "joblib.dump(model_high, 'model_high.pkl')\n",
    "\n",
    "# Inverse log transformation for predictions and actual values\n",
    "y_low_pred = np.expm1(y_low_pred)\n",
    "y_mid_pred = np.expm1(y_mid_pred)\n",
    "y_high_pred = np.expm1(y_high_pred)\n",
    "\n",
    "y_low_test = np.expm1(y_low_test)\n",
    "y_mid_test = np.expm1(y_mid_test)\n",
    "y_high_test = np.expm1(y_high_test)\n",
    "\n",
    "print(f'Mean Squared Error for goal_low (XGBoost with Log Transform): {mse_low}')\n",
    "print(f'Mean Squared Error for goal_mid (XGBoost with Log Transform): {mse_mid}')\n",
    "print(f'Mean Squared Error for goal_high (XGBoost with Log Transform): {mse_high}')\n"
   ]
  },
  {
   "cell_type": "code",
   "execution_count": 45,
   "metadata": {},
   "outputs": [
    {
     "data": {
      "text/html": [
       "<div>\n",
       "<style scoped>\n",
       "    .dataframe tbody tr th:only-of-type {\n",
       "        vertical-align: middle;\n",
       "    }\n",
       "\n",
       "    .dataframe tbody tr th {\n",
       "        vertical-align: top;\n",
       "    }\n",
       "\n",
       "    .dataframe thead th {\n",
       "        text-align: right;\n",
       "    }\n",
       "</style>\n",
       "<table border=\"1\" class=\"dataframe\">\n",
       "  <thead>\n",
       "    <tr style=\"text-align: right;\">\n",
       "      <th></th>\n",
       "      <th>goal_low_actual</th>\n",
       "      <th>goal_low_predicted</th>\n",
       "      <th>goal_mid_actual</th>\n",
       "      <th>goal_mid_predicted</th>\n",
       "      <th>goal_high_actual</th>\n",
       "      <th>goal_high_predicted</th>\n",
       "    </tr>\n",
       "  </thead>\n",
       "  <tbody>\n",
       "    <tr>\n",
       "      <th>36337</th>\n",
       "      <td>1.028757e+07</td>\n",
       "      <td>9.900247e+06</td>\n",
       "      <td>1.087060e+07</td>\n",
       "      <td>1.115342e+07</td>\n",
       "      <td>1.347166e+07</td>\n",
       "      <td>1.355733e+07</td>\n",
       "    </tr>\n",
       "    <tr>\n",
       "      <th>48054</th>\n",
       "      <td>2.362230e+05</td>\n",
       "      <td>2.435245e+05</td>\n",
       "      <td>2.635663e+05</td>\n",
       "      <td>2.648966e+05</td>\n",
       "      <td>3.824111e+05</td>\n",
       "      <td>3.983406e+05</td>\n",
       "    </tr>\n",
       "    <tr>\n",
       "      <th>1599</th>\n",
       "      <td>2.898931e+07</td>\n",
       "      <td>2.613871e+07</td>\n",
       "      <td>3.192494e+07</td>\n",
       "      <td>3.293860e+07</td>\n",
       "      <td>6.179375e+07</td>\n",
       "      <td>6.387562e+07</td>\n",
       "    </tr>\n",
       "    <tr>\n",
       "      <th>26048</th>\n",
       "      <td>3.271876e+07</td>\n",
       "      <td>3.492087e+07</td>\n",
       "      <td>5.058609e+07</td>\n",
       "      <td>5.945238e+07</td>\n",
       "      <td>1.683149e+08</td>\n",
       "      <td>1.683011e+08</td>\n",
       "    </tr>\n",
       "    <tr>\n",
       "      <th>16051</th>\n",
       "      <td>9.089949e+06</td>\n",
       "      <td>9.243036e+06</td>\n",
       "      <td>1.081120e+07</td>\n",
       "      <td>1.037163e+07</td>\n",
       "      <td>1.660705e+07</td>\n",
       "      <td>1.561311e+07</td>\n",
       "    </tr>\n",
       "  </tbody>\n",
       "</table>\n",
       "</div>"
      ],
      "text/plain": [
       "       goal_low_actual  goal_low_predicted  goal_mid_actual  \\\n",
       "36337     1.028757e+07        9.900247e+06     1.087060e+07   \n",
       "48054     2.362230e+05        2.435245e+05     2.635663e+05   \n",
       "1599      2.898931e+07        2.613871e+07     3.192494e+07   \n",
       "26048     3.271876e+07        3.492087e+07     5.058609e+07   \n",
       "16051     9.089949e+06        9.243036e+06     1.081120e+07   \n",
       "\n",
       "       goal_mid_predicted  goal_high_actual  goal_high_predicted  \n",
       "36337        1.115342e+07      1.347166e+07         1.355733e+07  \n",
       "48054        2.648966e+05      3.824111e+05         3.983406e+05  \n",
       "1599         3.293860e+07      6.179375e+07         6.387562e+07  \n",
       "26048        5.945238e+07      1.683149e+08         1.683011e+08  \n",
       "16051        1.037163e+07      1.660705e+07         1.561311e+07  "
      ]
     },
     "execution_count": 45,
     "metadata": {},
     "output_type": "execute_result"
    }
   ],
   "source": [
    "# Displaying a few predictions\n",
    "predictions = pd.DataFrame({\n",
    "    'goal_low_actual': y_low_test,\n",
    "    'goal_low_predicted': y_low_pred.flatten(),\n",
    "    'goal_mid_actual': y_mid_test,\n",
    "    'goal_mid_predicted': y_mid_pred.flatten(),\n",
    "    'goal_high_actual': y_high_test,\n",
    "    'goal_high_predicted': y_high_pred.flatten()\n",
    "}).head()\n",
    "\n",
    "predictions"
   ]
  },
  {
   "cell_type": "code",
   "execution_count": 46,
   "metadata": {},
   "outputs": [],
   "source": [
    "import joblib\n",
    "import numpy as np\n",
    "\n",
    "# Load the scaler and model for 'goal_mid'\n",
    "scaler = joblib.load('scaler.pkl')\n",
    "model_mid = joblib.load('model_mid.pkl')\n"
   ]
  },
  {
   "cell_type": "code",
   "execution_count": 47,
   "metadata": {},
   "outputs": [],
   "source": [
    "inp_a = np.array([[12, 25000]])\n",
    "inp_b = np.array([[33, 22500]])"
   ]
  },
  {
   "cell_type": "code",
   "execution_count": 48,
   "metadata": {},
   "outputs": [
    {
     "name": "stderr",
     "output_type": "stream",
     "text": [
      "/Users/mihiresh/Mihiresh/Work/TIAA/FutureFund/backend/mihiresh/venv/lib/python3.12/site-packages/sklearn/base.py:493: UserWarning: X does not have valid feature names, but StandardScaler was fitted with feature names\n",
      "  warnings.warn(\n",
      "/Users/mihiresh/Mihiresh/Work/TIAA/FutureFund/backend/mihiresh/venv/lib/python3.12/site-packages/sklearn/base.py:493: UserWarning: X does not have valid feature names, but StandardScaler was fitted with feature names\n",
      "  warnings.warn(\n"
     ]
    }
   ],
   "source": [
    "a = scaler.transform(inp_a)\n",
    "b = scaler.transform(inp_b)"
   ]
  },
  {
   "cell_type": "code",
   "execution_count": 49,
   "metadata": {},
   "outputs": [],
   "source": [
    "answer_a = model_mid.predict(a)\n",
    "answer_b = model_mid.predict(b)\n",
    "\n",
    "answer_a = np.expm1(answer_a)\n",
    "answer_b = np.expm1(answer_b)"
   ]
  },
  {
   "cell_type": "code",
   "execution_count": 50,
   "metadata": {},
   "outputs": [
    {
     "name": "stdout",
     "output_type": "stream",
     "text": [
      "Answer a: [5380771.5]\n",
      "answer b: [39596800.]\n"
     ]
    }
   ],
   "source": [
    "print(f\"Answer a: {answer_a}\\nanswer b: {answer_b}\")"
   ]
  }
 ],
 "metadata": {
  "kernelspec": {
   "display_name": "venv",
   "language": "python",
   "name": "python3"
  },
  "language_info": {
   "codemirror_mode": {
    "name": "ipython",
    "version": 3
   },
   "file_extension": ".py",
   "mimetype": "text/x-python",
   "name": "python",
   "nbconvert_exporter": "python",
   "pygments_lexer": "ipython3",
   "version": "3.12.3"
  }
 },
 "nbformat": 4,
 "nbformat_minor": 2
}
